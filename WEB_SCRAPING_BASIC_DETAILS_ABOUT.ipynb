{
 "cells": [
  {
   "cell_type": "code",
   "execution_count": 1,
   "metadata": {},
   "outputs": [],
   "source": [
    "# import web driver\n",
    "from selenium import webdriver\n",
    "import re\n",
    "import json\n",
    "import difflib"
   ]
  },
  {
   "cell_type": "code",
   "execution_count": 2,
   "metadata": {},
   "outputs": [],
   "source": [
    "# specifies the path to the chromedriver.exe\n",
    "driver = webdriver.Chrome('C://Users//USER//Desktop//chromedriver.exe')\n",
    "# driver = webdriver.Firefox()\n",
    "# \n",
    "# driver.get method() will navigate to a page given by the URL address\n",
    "driver.get('https://www.facebook.com/')"
   ]
  },
  {
   "cell_type": "code",
   "execution_count": 3,
   "metadata": {},
   "outputs": [],
   "source": [
    "from time import sleep\n",
    "driver.find_element_by_xpath('//*[@id=\"email\"]').send_keys('johnsonMLAI2304@gmail.com')\n",
    "driver.find_element_by_xpath('//*[@id=\"pass\"]').send_keys('johnsonMLAI2304@007')\n",
    "driver.find_element_by_xpath('//*[@id=\"u_0_b\"]').click()\n",
    "sleep(5)\n"
   ]
  },
  {
   "cell_type": "code",
   "execution_count": 4,
   "metadata": {},
   "outputs": [],
   "source": [
    "# driver.get('https://www.facebook.com/pulijala.sandeep.1')\n",
    "# driver.get('https://www.facebook.com/logoutsoon')\n",
    "# driver.get(\"https://www.facebook.com/profile.php?id=100000525500124\")\n",
    "# driver.get(\"https://www.facebook.com/saikrishna.chetty\")\n",
    "driver.get(\"https://www.facebook.com/acentsai\")\n",
    "# driver.get(\"https://www.facebook.com/profile.php?id=100050451848014\")"
   ]
  },
  {
   "cell_type": "code",
   "execution_count": 5,
   "metadata": {},
   "outputs": [
    {
     "name": "stdout",
     "output_type": "stream",
     "text": [
      "Profile_Name: Andugularavi Durga\n"
     ]
    }
   ],
   "source": [
    "Tilte = driver.title\n",
    "print(\"Profile_Name:\",Tilte)"
   ]
  },
  {
   "cell_type": "code",
   "execution_count": 6,
   "metadata": {},
   "outputs": [
    {
     "name": "stdout",
     "output_type": "stream",
     "text": [
      "USER_NAME: acentsai\n"
     ]
    }
   ],
   "source": [
    "test_string = driver.current_url\n",
    "spl_word = 'https://www.facebook.com/profile.php?id='\n",
    "spl_word1 = 'https://www.facebook.com/'\n",
    "spl_word2 = 'https://www.facebook.com/profile.php?id='\n",
    "if spl_word in test_string:\n",
    "    res1 = test_string.partition(spl_word2)[2] \n",
    "    print(\"USER_ID:\",res1)\n",
    "else:\n",
    "    res1 = test_string.partition(spl_word1)[2]\n",
    "    print(\"USER_NAME:\",res1)"
   ]
  },
  {
   "cell_type": "code",
   "execution_count": 7,
   "metadata": {},
   "outputs": [
    {
     "name": "stdout",
     "output_type": "stream",
     "text": [
      "Profile_Name: Andugularavi Durga\n",
      "Profile_Name: Andugularavi Durga\n",
      "Job_Title: Supervisor\n",
      "Address: Hyderabad\n",
      "Organization_name: [{'@type': 'Organization', 'name': 'I Am Not Lazy, I Just Take Rest Before I Do Some Work.'}, {'@type': 'Organization', 'name': 'Aloft Bengaluru Cessna Business Park'}, {'@type': 'Organization', 'name': 'The Westin Hyderabad Mindspace'}, {'@type': 'Organization', 'name': 'The Park Hyderabad'}]\n"
     ]
    }
   ],
   "source": [
    "test_list = re.findall(r'\">(.*?)<',driver.page_source)\n",
    "without_empty_strings = [string for string in test_list if string != \"\"]\n",
    "Profile_Name = without_empty_strings[0]\n",
    "print(\"Profile_Name:\",Profile_Name)\n",
    "Address = without_empty_strings[1]\n",
    "Address = json.loads(Address) \n",
    "# print(\"Address:\\n\",Address)\n",
    "print(\"Profile_Name:\",Address['name'])\n",
    "if 'jobTitle' in Address:\n",
    "    print(\"Job_Title:\",Address['jobTitle'])\n",
    "else: \n",
    "    pass\n",
    "if 'address' in Address:\n",
    "    print(\"Address:\",Address['address']['addressLocality'])\n",
    "else: \n",
    "    pass\n",
    "if 'affiliation' in Address:\n",
    "    print(\"Organization_name:\",Address['affiliation'])\n",
    "else: \n",
    "    pass"
   ]
  },
  {
   "cell_type": "code",
   "execution_count": 8,
   "metadata": {},
   "outputs": [
    {
     "name": "stdout",
     "output_type": "stream",
     "text": [
      "USER_ID: 100049731165932\n"
     ]
    }
   ],
   "source": [
    "urls = re.findall(r'(https?://\\S+)', driver.page_source)\n",
    "\n",
    "User_ID_Urls = []\n",
    "for url in urls:\n",
    "    if \"https://www.facebook.com/profile.php?id=\" in url:\n",
    "        User_ID_Urls.append(url)\n",
    "User_ID_Url = User_ID_Urls[0]\n",
    "spl_word = \"https://www.facebook.com/profile.php?id=\"\n",
    "res1 = User_ID_Url.partition(spl_word)[2] \n",
    "# print(res1)\n",
    "print(\"USER_ID:\",res1[:-1])"
   ]
  },
  {
   "cell_type": "code",
   "execution_count": 9,
   "metadata": {},
   "outputs": [
    {
     "name": "stdout",
     "output_type": "stream",
     "text": [
      "Associate at The Westin Hyderabad Mindspace\n",
      "Supervisor at The Park Hyderabad\n",
      "Trainee at Aloft Bengaluru Cessna Business Park\n",
      "Studied at Sri Gayathri Junior College\n",
      "Went to Regency College of Hotel Management\n",
      "Went to devendra vidyalaya\n",
      "Lives in Hyderabad\n",
      "From Hyderabad\n",
      "Single\n",
      "Joined on May 2012\n"
     ]
    }
   ],
   "source": [
    "if \"Intro\" in without_empty_strings:\n",
    "    target_ibdex3 = without_empty_strings.index(\"Intro\")\n",
    "    info1 =without_empty_strings[target_ibdex3+1:]\n",
    "    if \"Photos\" in without_empty_strings:\n",
    "        target_ibdex4 = info1.index('Photos')\n",
    "        Info1 =info1[:target_ibdex4]\n",
    "    elif \"Friends\" in without_empty_strings:\n",
    "        target_ibdex4 = info1.index('Friends')\n",
    "        Info1 =info1[:target_ibdex4]\n",
    "    for id,line in enumerate(Info1):\n",
    "        text2 = 'Joined on '\n",
    "        output = str(int(difflib.SequenceMatcher(None, line, text2).ratio()*100))\n",
    "    #     print(id,line)\n",
    "        if 'at' in line:\n",
    "            line1 = Info1[id]+Info1[id+1]\n",
    "            print(line1)\n",
    "            Info1.pop(id+1)\n",
    "        elif 'From' in line:\n",
    "            line1 = Info1[id]+Info1[id+1]\n",
    "            print(line1)\n",
    "            Info1.pop(id+1)\n",
    "\n",
    "\n",
    "        elif 'Joined on ' in line:\n",
    "            print(line)\n",
    "    #             line1 = Info1[id]+Info1[id+1]\n",
    "    #             print(line1)\n",
    "    #             Info1.pop(id+1)\n",
    "        elif 'by' in line:\n",
    "                line1 = Info1[id]+Info1[id+1]\n",
    "                print(line1)\n",
    "                Info1.pop(id+1)\n",
    "        elif 'to' in line:\n",
    "                line1 = Info1[id]+Info1[id+1]\n",
    "                print(line1)\n",
    "                Info1.pop(id+1)\n",
    "    #     elif 'single' in line:\n",
    "    #         print(line)\n",
    "        elif 'Single'== line:\n",
    "            print(line)\n",
    "        elif 'Maried'==  line:\n",
    "            print(line)\n",
    "        elif 'Engaged'==  line:\n",
    "            print(line)   \n",
    "        elif 'in' in line:      \n",
    "            line1 = Info1[id]+Info1[id+1]\n",
    "            print(line1)\n",
    "            Info1.pop(id+1)\n",
    "        elif 'of' in line:\n",
    "                line1 = Info1[id]+Info1[id+1]\n",
    "                print(line1)\n",
    "                Info1.pop(id+1)\n",
    "        else:\n",
    "    #         Info1.pop(id)\n",
    "            print(line)\n",
    "else:\n",
    "    pass   "
   ]
  },
  {
   "cell_type": "code",
   "execution_count": 10,
   "metadata": {},
   "outputs": [
    {
     "name": "stdout",
     "output_type": "stream",
     "text": [
      "Cover_Photo of the person:\n",
      " https://scontent.fhyd2-1.fna.fbcdn.net/v/t1.0-9/89298663_1843826179087936_4878553579436113920_o.jpg?_nc_cat=100&_nc_sid=dd9801&_nc_ohc=W5bVIoZ8qnsAX_gr1lK&_nc_ht=scontent.fhyd2-1.fna&oh=3bf38668417d3a53568773a9ff39863a&oe=5EC118DB\n"
     ]
    }
   ],
   "source": [
    "Cover_Photo_Urls = []\n",
    "urls = re.findall(r'(https?://\\S+)', driver.page_source)\n",
    "for url in urls:\n",
    "    if \"https://scontent.fhyd2-1.fna.fbcdn.net/v/\" in url:\n",
    "        if \"/p240x240/\" not in url:\n",
    "            if \"/p160x160/\" not in url: \n",
    "                if \"/p40x40\" not in url:\n",
    "                    if \"/p50x50\" not in url:\n",
    "            #         print(url)\n",
    "                        Cover_Photo1 = url.replace(\"amp;\", \"\")\n",
    "    #                     print(Cover_Photo1)\n",
    "                        Cover_Photo_Url = Cover_Photo1.replace('\"','')\n",
    "    #                     print(Cover_Photo_Url)\n",
    "                        Cover_Photo_Urls .append(Cover_Photo_Url)\n",
    "        else:\n",
    "            pass\n",
    "if len(Cover_Photo_Urls[0])>500:\n",
    "    print(\"No_Cover_Photo\")\n",
    "else:\n",
    "    print(\"Cover_Photo of the person:\\n\",Cover_Photo_Urls[0])"
   ]
  },
  {
   "cell_type": "code",
   "execution_count": 11,
   "metadata": {},
   "outputs": [
    {
     "name": "stdout",
     "output_type": "stream",
     "text": [
      "Profile image of the person:\n",
      " https://scontent.fhyd2-1.fna.fbcdn.net/v/t1.0-1/p240x240/91395926_1865719193565301_206106688736985088_n.jpg?_nc_cat=102&_nc_sid=dbb9e7&_nc_ohc=3YApw9sP3BYAX9LB-O8&_nc_ht=scontent.fhyd2-1.fna&_nc_tp=6&oh=f589a19cd1fca3a25e484ca405c66545&oe=5EC1E944\n"
     ]
    }
   ],
   "source": [
    "Profile_Photo_Urls = []\n",
    "for url in urls:\n",
    "    if \"https://scontent.fhyd2-1.fna.fbcdn.net/v\" in url:\n",
    "        if \"/p240x240/\" in url:\n",
    "#             print(url)\n",
    "            Profile_Photo1 = url.replace(\"amp;\", \"\")\n",
    "#             print(Profile_Photo1)\n",
    "            if '\"' in Profile_Photo1:\n",
    "                target_ibdex8 = Profile_Photo1.index('\"')\n",
    "                Ainfo8 =Profile_Photo1[:target_ibdex8]\n",
    "#                 print(Ainfo8)\n",
    "                Ainfo8 =Profile_Photo1[:target_ibdex8]\n",
    "#             print(\"Profile image of the person:\\n\",Ainfo8)\n",
    "                Profile_Photo_Urls .append(Ainfo8)\n",
    "# print(\"Profile image of the person:\\n\",Profile_Photo_Urls[0])\n",
    "                \n",
    "        else:\n",
    "            pass\n",
    "print(\"Profile image of the person:\\n\",Profile_Photo_Urls[0])"
   ]
  },
  {
   "cell_type": "code",
   "execution_count": 91,
   "metadata": {},
   "outputs": [],
   "source": [
    "# About Details\n",
    "# 'Overview',\n",
    "#  'Work and education',\n",
    "#  \"Places He's Lived\",\n",
    "#  'Contact and basic info',\n",
    "#  'Family and relationships',\n",
    "#  'Details About Amit',\n",
    "#  'Life events',"
   ]
  },
  {
   "cell_type": "markdown",
   "metadata": {},
   "source": [
    "# 1"
   ]
  },
  {
   "cell_type": "code",
   "execution_count": 92,
   "metadata": {},
   "outputs": [],
   "source": [
    "#about\n",
    "#Over_view"
   ]
  },
  {
   "cell_type": "code",
   "execution_count": 13,
   "metadata": {},
   "outputs": [],
   "source": [
    "driver.find_element_by_xpath('//*[@id=\"u_0_10\"]/li[2]/a').click()\n",
    "sleep(5)"
   ]
  },
  {
   "cell_type": "code",
   "execution_count": 14,
   "metadata": {},
   "outputs": [],
   "source": [
    "test_list = re.findall(r'>(.*?)<',driver.page_source)\n",
    "without_empty_strings = [string for string in test_list if string != \"\"]"
   ]
  },
  {
   "cell_type": "code",
   "execution_count": 20,
   "metadata": {},
   "outputs": [
    {
     "name": "stdout",
     "output_type": "stream",
     "text": [
      "About Overview of person:\n",
      " ['Works at ', 'The Westin Hyderabad Mindspace', ', ', 'I Am Not Lazy, I Just Take Rest Before I Do Some Work.', ' and ', 'The Park Hyderabad', 'Studied at ', 'Sri Gayathri Junior College', 'Lives in ', 'Hyderabad', 'From ', 'Hyderabad', '2 family members']\n"
     ]
    }
   ],
   "source": [
    "target_ibdex = without_empty_strings.index('About Section Navigation')\n",
    "info =without_empty_strings[target_ibdex:]\n",
    "info_index = info.index('Life events')\n",
    "info =info[info_index+1:]\n",
    "if 'Friends' in info:\n",
    "    target_ibdex1 = info.index('Friends')\n",
    "    Info1 =info[:target_ibdex1]\n",
    "    print(\"About Overview of person:\\n\",Info1)\n",
    "elif 'Photos' in info:\n",
    "    target_ibdex1 = info.index('Photos')\n",
    "    Info1 =info[:target_ibdex1]\n",
    "    print(\"About Overview of person:\\n\",Info1)\n",
    "elif 'Videos' in info:\n",
    "    target_ibdex1 = info.index('Videos')\n",
    "    Info1 =info[:target_ibdex1]\n",
    "    print(\"About Overview of person:\\n\",Info1)\n",
    "else:\n",
    "    target_ibdex1 = info.index('Check_Ins')\n",
    "    Info1 =info[:target_ibdex1]\n",
    "    print(\"About Overview of person:\\n\",Info1)"
   ]
  },
  {
   "cell_type": "code",
   "execution_count": 21,
   "metadata": {},
   "outputs": [
    {
     "name": "stdout",
     "output_type": "stream",
     "text": [
      "Works at The Westin Hyderabad Mindspace\n",
      ", \n",
      "I Am Not Lazy, I Just Take Rest Before I Do Some Work.\n",
      " and \n",
      "The Park Hyderabad\n",
      "Studied at Sri Gayathri Junior College\n",
      "Lives in Hyderabad\n",
      "From Hyderabad\n",
      "2 family members\n"
     ]
    }
   ],
   "source": [
    "for id,line in enumerate(Info1):\n",
    "    if 'Works' in line:\n",
    "        line1 = Info1[id]+Info1[id+1]\n",
    "        print(line1)\n",
    "        Info1.pop(id+1)\n",
    "    elif 'Studies' in line:\n",
    "        line1 = Info1[id]+Info1[id+1]\n",
    "        print(line1)\n",
    "        Info1.pop(id+1)\n",
    "    elif 'Studied' in line:\n",
    "        line1 = Info1[id]+Info1[id+1]\n",
    "        print(line1)\n",
    "        Info1.pop(id+1)\n",
    "    elif 'Lives in ' in line:\n",
    "        line1 = Info1[id]+Info1[id+1]\n",
    "        print(line1)\n",
    "        Info1.pop(id+1)\n",
    "    elif 'Lived in ' in line:\n",
    "        line1 = Info1[id]+Info1[id+1]\n",
    "        print(line1)\n",
    "        Info1.pop(id+1)\n",
    "\n",
    "    elif 'From ' in line:\n",
    "        line1 = Info1[id]+Info1[id+1]\n",
    "        print(line1)\n",
    "        Info1.pop(id+1)\n",
    "    else:\n",
    "        print(line)"
   ]
  },
  {
   "cell_type": "markdown",
   "metadata": {},
   "source": [
    "# 2"
   ]
  },
  {
   "cell_type": "code",
   "execution_count": 93,
   "metadata": {},
   "outputs": [],
   "source": [
    "#about\n",
    "#Work and education"
   ]
  },
  {
   "cell_type": "code",
   "execution_count": 22,
   "metadata": {},
   "outputs": [],
   "source": [
    "driver.find_element_by_xpath('//*[@id=\"pagelet_timeline_app_collection_100003817166963:2327158227:8\"]/ul/li[2]/div/div[1]/div/div/div/a[2]/span[1]').click()\n",
    "sleep(5)"
   ]
  },
  {
   "cell_type": "code",
   "execution_count": 23,
   "metadata": {},
   "outputs": [],
   "source": [
    "test_list1 = re.findall(r'>(.*?)<',driver.page_source)\n",
    "without_empty_strings1 = [string for string in test_list1 if string != \"\"]"
   ]
  },
  {
   "cell_type": "code",
   "execution_count": 24,
   "metadata": {},
   "outputs": [
    {
     "name": "stdout",
     "output_type": "stream",
     "text": [
      "About Work and education of person:\n",
      " ['Work', 'The Park Hyderabad', 'Supervisor', ' · ', '8 October 2018 to present', ' · ', 'Hyderabad', 'Aloft Bengaluru Cessna Business Park', 'Trainee', ' · ', '22 April 2016 to present', ' · ', 'Bangalore, India', 'The Westin Hyderabad Mindspace', 'Associate', 'I Am Not Lazy, I Just Take Rest Before I Do Some Work.', 'Education', 'Sri Gayathri Junior College', 'Hyderabad', 'Regency College of Hotel Management', 'Hyderabad', 'devendra vidyalaya', 'Hyderabad']\n"
     ]
    }
   ],
   "source": [
    "target_ibdex1 = without_empty_strings1.index('About Section Navigation')\n",
    "info1 =without_empty_strings1[target_ibdex1:]\n",
    "info_index1 = info1.index('Life events')\n",
    "info2 =info1[info_index1+1:]\n",
    "if 'Friends' in info2:\n",
    "    target_ibdex2 = info2.index('Friends')\n",
    "    Info3 =info2[:target_ibdex2]\n",
    "    print(\"About Work and education of person:\\n\",Info3)\n",
    "elif 'Friends' in info2:\n",
    "    target_ibdex2 = info2.index('Photos')\n",
    "    Info3 =info2[:target_ibdex2]\n",
    "    print(\"About Work and education of person:\\n\",Info3)\n",
    "elif 'Videos' in info2:\n",
    "    target_ibdex2 = info2.index('Videos')\n",
    "    Info3 =info2[:target_ibdex2]\n",
    "    print(\"About Work and education of person:\\n\",Info3)\n",
    "elif 'Check-Ins' in info2:\n",
    "    target_ibdex2 = info2.index('Check-Ins')\n",
    "    Info3 =info2[:target_ibdex2]\n",
    "    print(\"About Work and education of person:\\n\",Info3)\n",
    "    "
   ]
  },
  {
   "cell_type": "code",
   "execution_count": 25,
   "metadata": {},
   "outputs": [
    {
     "name": "stdout",
     "output_type": "stream",
     "text": [
      "Work:\n",
      " ['The Park Hyderabad', 'Supervisor', ' · ', '8 October 2018 to present', ' · ', 'Hyderabad', 'Aloft Bengaluru Cessna Business Park', 'Trainee', ' · ', '22 April 2016 to present', ' · ', 'Bangalore, India', 'The Westin Hyderabad Mindspace', 'Associate', 'I Am Not Lazy, I Just Take Rest Before I Do Some Work.']\n"
     ]
    }
   ],
   "source": [
    "    if \"Work\" in Info3:\n",
    "        target_ibdex4 = Info3.index('Work')\n",
    "        target_ibdex5 = Info3.index('Education')\n",
    "        Info5 = Info3[1:target_ibdex5]\n",
    "    #     Info5 = ' '.join(map(str, Info5)) \n",
    "        print('Work:\\n',Info5)\n",
    "    else:\n",
    "        pass"
   ]
  },
  {
   "cell_type": "code",
   "execution_count": 26,
   "metadata": {},
   "outputs": [
    {
     "name": "stdout",
     "output_type": "stream",
     "text": [
      "Education:\n",
      " ['Sri Gayathri Junior College', 'Hyderabad', 'Regency College of Hotel Management', 'Hyderabad', 'devendra vidyalaya', 'Hyderabad']\n"
     ]
    }
   ],
   "source": [
    "if \"Education\" in Info3:\n",
    "    target_ibdex4 = Info3.index('Education')\n",
    "#     print(target_ibdex4)\n",
    "    Info5 = Info3[target_ibdex4+1:]\n",
    "#     Info5 = ' '.join(map(str, Info5)) \n",
    "    print('Education:\\n',Info5)\n",
    "else:\n",
    "    pass\n"
   ]
  },
  {
   "cell_type": "markdown",
   "metadata": {},
   "source": [
    "# 3"
   ]
  },
  {
   "cell_type": "code",
   "execution_count": 94,
   "metadata": {},
   "outputs": [],
   "source": [
    "#about\n",
    "#Places he/she lived"
   ]
  },
  {
   "cell_type": "code",
   "execution_count": 27,
   "metadata": {},
   "outputs": [],
   "source": [
    "driver.find_element_by_xpath('//*[@id=\"pagelet_timeline_app_collection_100003817166963:2327158227:8\"]/ul/li[2]/div/div[1]/div/div/div/a[3]/span[1]').click()\n",
    "sleep(5)"
   ]
  },
  {
   "cell_type": "code",
   "execution_count": 28,
   "metadata": {},
   "outputs": [],
   "source": [
    "test_list1 = re.findall(r'>(.*?)<',driver.page_source)\n",
    "without_empty_strings1 = [string for string in test_list1 if string != \"\"]"
   ]
  },
  {
   "cell_type": "code",
   "execution_count": 33,
   "metadata": {},
   "outputs": [
    {
     "name": "stdout",
     "output_type": "stream",
     "text": [
      "About Current_City & Home_Town of person:\n",
      " ['Hyderabad', 'Current city', 'Hyderabad', 'Home Town']\n"
     ]
    }
   ],
   "source": [
    "target_ibdex1 = without_empty_strings1.index('About Section Navigation')\n",
    "info1 =without_empty_strings1[target_ibdex1:]\n",
    "info_index1 = info1.index('Life events')\n",
    "info2 =info1[info_index1+1:]\n",
    "if 'Friends' in info2:\n",
    "    target_ibdex2 = info2.index('Friends')\n",
    "    Info3 =info2[1:target_ibdex2]\n",
    "    print(\"About Current_City & Home_Town of person:\\n\",Info3)\n",
    "elif 'Friends' in info2:\n",
    "    target_ibdex2 = info2.index('Photos')\n",
    "    Info3 =info2[1:target_ibdex2]\n",
    "    print(\"About Current_City & Home_Town of person:\\n\",Info3)\n",
    "elif 'Videos' in info2:\n",
    "    target_ibdex2 = info2.index('Videos')\n",
    "    Info3 =info2[1:target_ibdex2]\n",
    "    print(\"About Current_City & Home_Town of person:\\n\",Info3)\n",
    "elif 'Check-Ins' in info2:\n",
    "    target_ibdex2 = info2.index('Check-Ins')\n",
    "    Info3 =info2[1:target_ibdex2]\n",
    "    print(\"About Current_City & Home_Town of person:\\n\",Info3)\n",
    "    "
   ]
  },
  {
   "cell_type": "code",
   "execution_count": 34,
   "metadata": {},
   "outputs": [
    {
     "name": "stdout",
     "output_type": "stream",
     "text": [
      "Current city:\n",
      " ['Hyderabad']\n"
     ]
    }
   ],
   "source": [
    "    if \"Current city\" in Info3:\n",
    "        target_ibdex4 = Info3.index('Current city')\n",
    "#         target_ibdex5 = Info3.index('Basic Information')\n",
    "        Info5 = Info3[:target_ibdex4]\n",
    "    #     Info5 = ' '.join(map(str, Info5)) \n",
    "        print('Current city:\\n',Info5)\n",
    "    else:\n",
    "        pass"
   ]
  },
  {
   "cell_type": "code",
   "execution_count": 37,
   "metadata": {},
   "outputs": [
    {
     "name": "stdout",
     "output_type": "stream",
     "text": [
      "Home Town:\n",
      " ['Hyderabad']\n"
     ]
    }
   ],
   "source": [
    "if \"Home Town\" in Info3:\n",
    "    target_ibdex4 = Info3.index('Home Town')\n",
    "    target_ibdex5 = Info3.index('Current city')\n",
    "    #     print(target_ibdex4)\n",
    "    Info5 = Info3[target_ibdex5+1:target_ibdex4]\n",
    "#     Info5 = ' '.join(map(str, Info5)) \n",
    "    print('Home Town:\\n',Info5)\n",
    "else:\n",
    "    pass\n"
   ]
  },
  {
   "cell_type": "code",
   "execution_count": 38,
   "metadata": {},
   "outputs": [],
   "source": [
    "if \"Other Places Lived\" in Info3:\n",
    "    target_ibdex4 = Info3.index('Other Places Lived')\n",
    "#     print(target_ibdex4)\n",
    "    Info5 = Info3[target_ibdex4:]\n",
    "#     Info5 = ' '.join(map(str, Info5)) \n",
    "    print('Other Places Lived:\\n',Info5)\n",
    "else:\n",
    "    pass\n"
   ]
  },
  {
   "cell_type": "markdown",
   "metadata": {},
   "source": [
    "# 4"
   ]
  },
  {
   "cell_type": "code",
   "execution_count": 95,
   "metadata": {},
   "outputs": [],
   "source": [
    "#about\n",
    "#Contact and basic info"
   ]
  },
  {
   "cell_type": "code",
   "execution_count": 39,
   "metadata": {},
   "outputs": [],
   "source": [
    "driver.find_element_by_xpath('//*[@id=\"pagelet_timeline_app_collection_100003817166963:2327158227:8\"]/ul/li[2]/div/div[1]/div/div/div/a[4]/span[1]').click()\n",
    "sleep(5)"
   ]
  },
  {
   "cell_type": "code",
   "execution_count": 40,
   "metadata": {},
   "outputs": [],
   "source": [
    "test_list1 = re.findall(r'>(.*?)<',driver.page_source)\n",
    "without_empty_strings1 = [string for string in test_list1 if string != \"\"]"
   ]
  },
  {
   "cell_type": "code",
   "execution_count": 41,
   "metadata": {},
   "outputs": [
    {
     "name": "stdout",
     "output_type": "stream",
     "text": [
      "About Basic Information & Contact Information of person:\n",
      " ['Contact Information', 'Facebook', 'http://facebook.com/', 'acentsai', 'Basic Information', 'Gender', 'Male']\n"
     ]
    }
   ],
   "source": [
    "target_ibdex1 = without_empty_strings1.index('About Section Navigation')\n",
    "info1 =without_empty_strings1[target_ibdex1:]\n",
    "info_index1 = info1.index('Life events')\n",
    "info2 =info1[info_index1+1:]\n",
    "if 'Friends' in info2:\n",
    "    target_ibdex2 = info2.index('Friends')\n",
    "    Info3 =info2[:target_ibdex2]\n",
    "    print(\"About Basic Information & Contact Information of person:\\n\",Info3)\n",
    "elif 'Friends' in info2:\n",
    "    target_ibdex2 = info2.index('Photos')\n",
    "    Info3 =info2[:target_ibdex2]\n",
    "    print(\"About Basic Information & Contact Information of person:\\n\",Info3)\n",
    "elif 'Videos' in info2:\n",
    "    target_ibdex2 = info2.index('Videos')\n",
    "    Info3 =info2[:target_ibdex2]\n",
    "    print(\"About Basic Information & Contact Information of person:\\n\",Info3)\n",
    "elif 'Check-Ins' in info2:\n",
    "    target_ibdex2 = info2.index('Check-Ins')\n",
    "    Info3 =info2[:target_ibdex2]\n",
    "    print(\"About Basic Information & Contact Information of person:\\n\",Info3)\n",
    "    "
   ]
  },
  {
   "cell_type": "code",
   "execution_count": 42,
   "metadata": {},
   "outputs": [
    {
     "name": "stdout",
     "output_type": "stream",
     "text": [
      "Contact Information:\n",
      " ['Facebook', 'http://facebook.com/', 'acentsai']\n"
     ]
    }
   ],
   "source": [
    "    if \"Contact Information\" in Info3:\n",
    "        target_ibdex4 = Info3.index('Contact Information')\n",
    "        target_ibdex5 = Info3.index('Basic Information')\n",
    "        Info5 = Info3[1:target_ibdex5]\n",
    "    #     Info5 = ' '.join(map(str, Info5)) \n",
    "        print('Contact Information:\\n',Info5)\n",
    "    else:\n",
    "        pass"
   ]
  },
  {
   "cell_type": "code",
   "execution_count": 43,
   "metadata": {},
   "outputs": [
    {
     "name": "stdout",
     "output_type": "stream",
     "text": [
      "Basic Information:\n",
      " ['Gender', 'Male']\n"
     ]
    }
   ],
   "source": [
    "if \"Basic Information\" in Info3:\n",
    "    target_ibdex4 = Info3.index('Basic Information')\n",
    "#     print(target_ibdex4)\n",
    "    Info5 = Info3[target_ibdex4+1:]\n",
    "#     Info5 = ' '.join(map(str, Info5)) \n",
    "    print('Basic Information:\\n',Info5)\n",
    "else:\n",
    "    pass\n"
   ]
  },
  {
   "cell_type": "markdown",
   "metadata": {},
   "source": [
    "# 5"
   ]
  },
  {
   "cell_type": "code",
   "execution_count": 96,
   "metadata": {},
   "outputs": [],
   "source": [
    "# about\n",
    "# Family and Relationships"
   ]
  },
  {
   "cell_type": "code",
   "execution_count": 44,
   "metadata": {},
   "outputs": [],
   "source": [
    "driver.find_element_by_xpath('//*[@id=\"pagelet_timeline_app_collection_100003817166963:2327158227:8\"]/ul/li[2]/div/div[1]/div/div/div/a[5]/span[1]').click()\n",
    "sleep(5)"
   ]
  },
  {
   "cell_type": "code",
   "execution_count": 45,
   "metadata": {},
   "outputs": [],
   "source": [
    "test_list1 = re.findall(r'>(.*?)<',driver.page_source)\n",
    "without_empty_strings1 = [string for string in test_list1 if string != \"\"]"
   ]
  },
  {
   "cell_type": "code",
   "execution_count": 46,
   "metadata": {},
   "outputs": [
    {
     "name": "stdout",
     "output_type": "stream",
     "text": [
      "About Family & Relation_Ship of person:\n",
      " ['Relationship', 'Single', 'Family Members', 'Jay Kumar', 'Cousin', 'Sandhya Rani', 'Cousin']\n"
     ]
    }
   ],
   "source": [
    "target_ibdex1 = without_empty_strings1.index('About Section Navigation')\n",
    "info1 =without_empty_strings1[target_ibdex1:]\n",
    "info_index1 = info1.index('Life events')\n",
    "info2 =info1[info_index1+1:]\n",
    "if 'Friends' in info2:\n",
    "    target_ibdex2 = info2.index('Friends')\n",
    "    Info3 =info2[:target_ibdex2]\n",
    "    print(\"About Family & Relation_Ship of person:\\n\",Info3)\n",
    "elif 'Friends' in info2:\n",
    "    target_ibdex2 = info2.index('Photos')\n",
    "    Info3 =info2[:target_ibdex2]\n",
    "    print(\"About Basic Family & Relation_Ship of person:\\n\",Info3)\n",
    "elif 'Videos' in info2:\n",
    "    target_ibdex2 = info2.index('Videos')\n",
    "    Info3 =info2[:target_ibdex2]\n",
    "    print(\"About Family & Relation_Ship of person:\\n\",Info3)\n",
    "elif 'Check-Ins' in info2:\n",
    "    target_ibdex2 = info2.index('Check-Ins')\n",
    "    Info3 =info2[:target_ibdex2]\n",
    "    print(\"About Family & Relation_Ship of person:\\n\",Info3)\n",
    "    "
   ]
  },
  {
   "cell_type": "code",
   "execution_count": 47,
   "metadata": {},
   "outputs": [],
   "source": [
    "#Relation_Ship"
   ]
  },
  {
   "cell_type": "code",
   "execution_count": 48,
   "metadata": {},
   "outputs": [
    {
     "name": "stdout",
     "output_type": "stream",
     "text": [
      "Contact Information:\n",
      " ['Single']\n"
     ]
    }
   ],
   "source": [
    "if \"Relationship\" in Info3:\n",
    "    target_ibdex4 = Info3.index('Relationship')\n",
    "    target_ibdex5 = Info3.index('Family Members')\n",
    "    Info5 = Info3[1:target_ibdex5]\n",
    "#     Info5 = ' '.join(map(str, Info5)) \n",
    "    print('Contact Information:\\n',Info5)\n",
    "else:\n",
    "    pass"
   ]
  },
  {
   "cell_type": "code",
   "execution_count": 49,
   "metadata": {},
   "outputs": [],
   "source": [
    "f1_index = driver.page_source.index('>Relationship<')\n",
    "f1_text = driver.page_source[f1_index:]\n",
    "f2_index = f1_text.index('>Family Members<')\n",
    "f2_text = f1_text[:f2_index]"
   ]
  },
  {
   "cell_type": "code",
   "execution_count": 50,
   "metadata": {},
   "outputs": [
    {
     "name": "stdout",
     "output_type": "stream",
     "text": [
      "['Relationship', 'Single']\n"
     ]
    }
   ],
   "source": [
    "Relation_ships = []\n",
    "Relation_ship = []\n",
    "if 'No relationship info to show' in f2_text:\n",
    "    print(\"NO_RELATIONSHIP_INFORMATION\")\n",
    "else:\n",
    "    for i,name in enumerate(Info3):\n",
    "    #     print(i,name)\n",
    "        f = f2_text.count(name)\n",
    "        if f==2:\n",
    "            #        print(i)\n",
    "            Relation_ships.append(name)\n",
    "        elif f==1:\n",
    "    #         print(name)\n",
    "            Relation_ship.append(name)\n",
    "print(Relation_ship)"
   ]
  },
  {
   "cell_type": "code",
   "execution_count": 65,
   "metadata": {},
   "outputs": [],
   "source": [
    "if len(Relation_ships)>=1:\n",
    "#     user_name = []\n",
    "    for a in Relation_ships:\n",
    "        print(\"Profile_Name:\",a)\n",
    "        f = f2_text.rindex(a)\n",
    "        f_index = f\n",
    "    #     print(f_index)\n",
    "        Ainfo6 =f2_text[:f_index]\n",
    "        g = Ainfo6.rindex(a)\n",
    "        g_index = g\n",
    "    #     print(g_index)\n",
    "        Ainfo7 =Ainfo6[g_index:]\n",
    "    #     print(Ainfo7)\n",
    "        friend2_url = re.findall(r'(https?://\\S+)', Ainfo7)\n",
    "    #     print(friend2_url)\n",
    "        friend2_url = friend2_url[0].replace(\"amp;\", \"\")\n",
    "        friend2_url = friend2_url[:-1]\n",
    "        print(friend2_url)\n",
    "    #     spl_word = 'https://www.facebook.com/'\n",
    "        spl_word = 'https://www.facebook.com/profile.php?id='\n",
    "        spl_word1 = 'https://www.facebook.com/'\n",
    "        spl_word2 = 'https://www.facebook.com/profile.php?id='\n",
    "        # test_string = driver1.current_url\n",
    "        if spl_word in friend2_url:\n",
    "            res1 = friend2_url.partition(spl_word2)[2] \n",
    "    #         print(res1)\n",
    "            if '&' in res1:\n",
    "            \n",
    "                target_ibdex2 = res1.index('&')\n",
    "                # print(target_ibdex2)\n",
    "                uName1 = res1[:target_ibdex2]\n",
    "                print(\"USER_ID:\",uName1)\n",
    "            else:\n",
    "                print(\"USER_ID:\",res1)\n",
    "        else:\n",
    "            res1 = friend2_url.partition(spl_word1)[2]\n",
    "    #         print(res1)\n",
    "            if '?' in res1:\n",
    "                target_ibdex3 = res1.index('?')\n",
    "        #         print(target_ibdex3)\n",
    "                uName2 = res1[:target_ibdex3]\n",
    "                print(\"USER_NAME:\",uName2)\n",
    "    #         user_name.append(uName2)\n",
    "            else:\n",
    "                print(\"USER_NAME:\",res1)\n",
    "\n",
    "\n",
    "\n",
    "#         print(\"\\n End_Of_User_Details \\n \" ) \n",
    "else:\n",
    "    pass\n",
    "    "
   ]
  },
  {
   "cell_type": "code",
   "execution_count": 52,
   "metadata": {},
   "outputs": [],
   "source": [
    "# Family Members"
   ]
  },
  {
   "cell_type": "code",
   "execution_count": 53,
   "metadata": {},
   "outputs": [
    {
     "name": "stdout",
     "output_type": "stream",
     "text": [
      "Contact Information:\n",
      " ['Jay Kumar', 'Cousin', 'Sandhya Rani', 'Cousin']\n"
     ]
    }
   ],
   "source": [
    "if \"Family Members\" in Info3:\n",
    "    target_ibdex4 = Info3.index('Family Members')\n",
    "#     target_ibdex5 = Info3.index('Family Members')\n",
    "    Info5 = Info3[target_ibdex4+1:]\n",
    "#     Info5 = ' '.join(map(str, Info5)) \n",
    "    print('Contact Information:\\n',Info5)\n",
    "else:\n",
    "    pass"
   ]
  },
  {
   "cell_type": "code",
   "execution_count": 54,
   "metadata": {},
   "outputs": [],
   "source": [
    "f1_index = driver.page_source.index('>Family Members<')\n",
    "f1_text = driver.page_source[f1_index:]\n",
    "if '>Friends<' in f1_text:\n",
    "    f2_index = f1_text.index('>Friends<')\n",
    "#     print(f2_index)\n",
    "elif '>Photos<' in f1_text:\n",
    "    f2_index = f1_text.index('>Photos<')\n",
    "#     print(f2_index)\n",
    "elif '>Videos<' in f1_text:\n",
    "    f2_index = f1_text.index('>Videos<')\n",
    "else:\n",
    "    f2_index = f1_text.index('>Check_Ins<')\n",
    "f2_text = f1_text[:f2_index]"
   ]
  },
  {
   "cell_type": "code",
   "execution_count": 55,
   "metadata": {},
   "outputs": [
    {
     "name": "stdout",
     "output_type": "stream",
     "text": [
      "['Family Members']\n"
     ]
    }
   ],
   "source": [
    "Family_Members = []\n",
    "Family_Member = []\n",
    "if 'No family members to show' in f2_text:\n",
    "    print(\"NO_FAMILY_MEMBERS_INFORMATION\")\n",
    "else:\n",
    "    for i,name in enumerate(Info3):\n",
    "    #     print(i,name)\n",
    "        f = f2_text.count(name)\n",
    "        if f==2:\n",
    "            #        print(i)\n",
    "            Family_Members.append(name)\n",
    "        elif f==1:\n",
    "    #         print(name)\n",
    "           Family_Member.append(name)\n",
    "print(Family_Member)"
   ]
  },
  {
   "cell_type": "code",
   "execution_count": 64,
   "metadata": {},
   "outputs": [
    {
     "name": "stdout",
     "output_type": "stream",
     "text": [
      "Profile_Name: Jay Kumar\n",
      "https://www.facebook.com/alwayssayjay1?eid=ARDZrb3DVmPa1gPvxGs_WyBJNjmRWOt0MWxgMs_ZhjOGr_C-p8ZcCRhRsjPlXN8fJaSAdj051kfHrqC7\n",
      "USER_NAME: alwayssayjay1\n",
      "Profile_Name: Cousin\n",
      "https://www.facebook.com/profile.php?id=100005767655213\n",
      "USER_ID: 100005767655213\n",
      "Profile_Name: Sandhya Rani\n",
      "https://www.facebook.com/profile.php?id=100005767655213&eid=ARDCJjJWJUafq6M0Drcgj0n40JNans0oBFb119XCSwy8DFN9IxwPVV6kNsXRh2Io1In5_KpIAOg9d-qv\n",
      "USER_ID: 100005767655213\n",
      "Profile_Name: Cousin\n",
      "https://www.facebook.com/profile.php?id=100005767655213\n",
      "USER_ID: 100005767655213\n"
     ]
    }
   ],
   "source": [
    "if len(Family_Members)>=1:\n",
    "#     user_name = []\n",
    "    for a in Family_Members:\n",
    "        print(\"Profile_Name:\",a)\n",
    "        f = f2_text.rindex(a)\n",
    "        f_index = f\n",
    "    #     print(f_index)\n",
    "        Ainfo6 =f2_text[:f_index]\n",
    "        g = Ainfo6.rindex(a)\n",
    "        g_index = g\n",
    "    #     print(g_index)\n",
    "        Ainfo7 =Ainfo6[g_index:]\n",
    "    #     print(Ainfo7)\n",
    "        friend2_url = re.findall(r'(https?://\\S+)', Ainfo7)\n",
    "    #     print(friend2_url)\n",
    "        friend2_url = friend2_url[0].replace(\"amp;\", \"\")\n",
    "        friend2_url = friend2_url[:-1]\n",
    "        print(friend2_url)\n",
    "    #     spl_word = 'https://www.facebook.com/'\n",
    "        spl_word = 'https://www.facebook.com/profile.php?id='\n",
    "        spl_word1 = 'https://www.facebook.com/'\n",
    "        spl_word2 = 'https://www.facebook.com/profile.php?id='\n",
    "        # test_string = driver1.current_url\n",
    "        if spl_word in friend2_url:\n",
    "            res1 = friend2_url.partition(spl_word2)[2] \n",
    "    #         print(res1)\n",
    "            if '&' in res1:\n",
    "            \n",
    "                target_ibdex2 = res1.index('&')\n",
    "                # print(target_ibdex2)\n",
    "                uName1 = res1[:target_ibdex2]\n",
    "                print(\"USER_ID:\",uName1)\n",
    "            else:\n",
    "                print(\"USER_ID:\",res1)\n",
    "        else:\n",
    "            res1 = friend2_url.partition(spl_word1)[2]\n",
    "    #         print(res1)\n",
    "            if '?' in res1:\n",
    "                target_ibdex3 = res1.index('?')\n",
    "        #         print(target_ibdex3)\n",
    "                uName2 = res1[:target_ibdex3]\n",
    "                print(\"USER_NAME:\",uName2)\n",
    "    #         user_name.append(uName2)\n",
    "            else:\n",
    "                print(\"USER_NAME:\",res1)\n",
    "\n",
    "\n",
    "\n",
    "#         print(\"\\n End_Of_User_Details \\n \" ) \n",
    "else:\n",
    "    pass\n",
    "    "
   ]
  },
  {
   "cell_type": "markdown",
   "metadata": {},
   "source": [
    "# 6"
   ]
  },
  {
   "cell_type": "code",
   "execution_count": 98,
   "metadata": {},
   "outputs": [],
   "source": [
    "#about\n",
    "#Details about Person"
   ]
  },
  {
   "cell_type": "code",
   "execution_count": 66,
   "metadata": {},
   "outputs": [],
   "source": [
    "driver.find_element_by_xpath('//*[@id=\"pagelet_timeline_app_collection_100003817166963:2327158227:8\"]/ul/li[2]/div/div[1]/div/div/div/a[6]/span[1]').click()\n",
    "sleep(5)"
   ]
  },
  {
   "cell_type": "code",
   "execution_count": 78,
   "metadata": {},
   "outputs": [],
   "source": [
    "test_list5 = re.findall(r'>(.*?)<',driver.page_source)\n",
    "without_empty_strings5 = [string for string in test_list5 if string != \"\"]"
   ]
  },
  {
   "cell_type": "code",
   "execution_count": 84,
   "metadata": {},
   "outputs": [
    {
     "name": "stdout",
     "output_type": "stream",
     "text": [
      "About Details about of person:\n",
      " ['About Andugularavi', 'No additional details to show', 'Other Names', 'sai', 'Nickname', 'Favourite Quotes', 'No favourite quotes to show']\n"
     ]
    }
   ],
   "source": [
    "target_ibdex1 = without_empty_strings5.index('About Section Navigation')\n",
    "info1 =without_empty_strings5[target_ibdex1:]\n",
    "info_index1 = info1.index('Life events')\n",
    "info2 =info1[info_index1+1:]\n",
    "if 'Friends' in info2:\n",
    "    target_ibdex2 = info2.index('Friends')\n",
    "    Info3 =info2[:target_ibdex2]\n",
    "    print(\"About Details about of person:\\n\",Info3)\n",
    "elif 'Photos' in info2:\n",
    "    target_ibdex2 = info2.index('Photos')\n",
    "    Info3 =info2[:target_ibdex2]\n",
    "    print(\"About Details about of person:\\n\",Info3)\n",
    "elif 'Videos' in info2:\n",
    "    target_ibdex2 = info2.index('Videos')\n",
    "    Info3 =info2[:target_ibdex2]\n",
    "    print(\"About Details about of person:\\n\",Info3)\n",
    "elif 'Check_Ins' in info2:\n",
    "    target_ibdex2 = info2.index('Check_Ins')\n",
    "    Info3 =info2[:target_ibdex2]\n",
    "    print(\"About Details about of person:\\n\",Info3)\n",
    "elif 'Music' in info2:\n",
    "    target_ibdex2 = info2.index('Music')\n",
    "    Info3 =info2[:target_ibdex2]\n",
    "    print(\"About Details about of person:\\n\",Info3)\n",
    "elif 'Films' in info2:\n",
    "    target_ibdex2 = info2.index('Films')\n",
    "    Info3 =info2[:target_ibdex2]\n",
    "    print(\"About Details about of person:\\n\",Info3)\n",
    "elif 'Sports' in info2:\n",
    "    target_ibdex2 = info2.index('Sports')\n",
    "    Info3 =info2[:target_ibdex2]\n",
    "    print(\"About Details about of person:\\n\",Info3)\n",
    "else:\n",
    "    target_ibdex2 = info2.index('Keyboard shortcut help')\n",
    "    Info3 =info2[:target_ibdex2]\n",
    "    print(\"About Details about of person:\\n\",Info3)\n",
    "    \n"
   ]
  },
  {
   "cell_type": "code",
   "execution_count": 85,
   "metadata": {},
   "outputs": [
    {
     "name": "stdout",
     "output_type": "stream",
     "text": [
      "Andugularavi\n"
     ]
    }
   ],
   "source": [
    "Name = Tilte.split(\" \")\n",
    "First_Name = Name[0]\n",
    "print(First_Name)\n"
   ]
  },
  {
   "cell_type": "code",
   "execution_count": 86,
   "metadata": {},
   "outputs": [
    {
     "name": "stdout",
     "output_type": "stream",
     "text": [
      "About Information:\n",
      " ['No additional details to show', 'Other Names', 'sai', 'Nickname']\n"
     ]
    }
   ],
   "source": [
    "\n",
    "if \"About\"+\" \"+First_Name in Info3:\n",
    "    target_ibdex4 = Info3.index(\"About\"+\" \"+First_Name)\n",
    "    target_ibdex5 = Info3.index('Favourite Quotes')\n",
    "    Info5 = Info3[1:target_ibdex5]\n",
    "#     Info5 = ' '.join(map(str, Info5)) \n",
    "    print('About Information:\\n',Info5)\n",
    "else:\n",
    "    pass"
   ]
  },
  {
   "cell_type": "code",
   "execution_count": 87,
   "metadata": {},
   "outputs": [
    {
     "name": "stdout",
     "output_type": "stream",
     "text": [
      "Favourite Quotes:\n",
      " ['No favourite quotes to show']\n"
     ]
    }
   ],
   "source": [
    "\n",
    "if 'Favourite Quotes' in Info3:\n",
    "    target_ibdex4 = Info3.index('Favourite Quotes')\n",
    "#     target_ibdex5 = Info3.index('Favourite Quotes')\n",
    "    Info5 = Info3[target_ibdex4+1:]\n",
    "#     Info5 = ' '.join(map(str, Info5)) \n",
    "    print('Favourite Quotes:\\n',Info5)\n",
    "else:\n",
    "    pass"
   ]
  },
  {
   "cell_type": "markdown",
   "metadata": {},
   "source": [
    "# 7"
   ]
  },
  {
   "cell_type": "code",
   "execution_count": 97,
   "metadata": {},
   "outputs": [],
   "source": [
    "#about\n",
    "#Life_Events"
   ]
  },
  {
   "cell_type": "code",
   "execution_count": 88,
   "metadata": {},
   "outputs": [],
   "source": [
    "driver.find_element_by_xpath('//*[@id=\"pagelet_timeline_app_collection_100003817166963:2327158227:8\"]/ul/li[2]/div/div[1]/div/div/div/a[7]/span[1]').click()\n",
    "sleep(5)"
   ]
  },
  {
   "cell_type": "code",
   "execution_count": 89,
   "metadata": {},
   "outputs": [],
   "source": [
    "test_list6 = re.findall(r'>(.*?)<',driver.page_source)\n",
    "without_empty_strings6 = [string for string in test_list6 if string != \"\"]"
   ]
  },
  {
   "cell_type": "code",
   "execution_count": 90,
   "metadata": {},
   "outputs": [
    {
     "name": "stdout",
     "output_type": "stream",
     "text": [
      "About Life_Events of person:\n",
      " ['Life events', '2018', 'Started new job at The Park Hyderabad', '2016', 'Started new job at Aloft Bengaluru Cessna Business Park']\n"
     ]
    }
   ],
   "source": [
    "target_ibdex1 = without_empty_strings6.index('About Section Navigation')\n",
    "info1 =without_empty_strings6[target_ibdex1:]\n",
    "info_index1 = info1.index('Life events')\n",
    "info2 =info1[info_index1+1:][:20]\n",
    "if 'Friends' in info2:\n",
    "    target_ibdex2 = info2.index('Friends')\n",
    "    Info3 =info2[:target_ibdex2]\n",
    "    print(\"About Life_Events of person:\\n\",Info3)\n",
    "elif 'Photos' in info2:\n",
    "    target_ibdex2 = info2.index('Photos')\n",
    "    Info3 =info2[:target_ibdex2]\n",
    "    print(\"About Life_Events of person:\\n\",Info3)\n",
    "elif 'Videos' in info2:\n",
    "    target_ibdex2 = info2.index('Videos')\n",
    "    Info3 =info2[:target_ibdex2]\n",
    "    print(\"About Details about of person:\\n\",Info3)\n",
    "elif 'Check_Ins' in info2:\n",
    "    target_ibdex2 = info2.index('Check_Ins')\n",
    "    Info3 =info2[:target_ibdex2]\n",
    "    print(\"About Details about of person:\\n\",Info3)\n",
    "elif 'Music' in info2:\n",
    "    target_ibdex2 = info2.index('Music')\n",
    "    Info3 =info2[:target_ibdex2]\n",
    "    print(\"About Details about of person:\\n\",Info3)\n",
    "elif 'Films' in info2:\n",
    "    target_ibdex2 = info2.index('Films')\n",
    "    Info3 =info2[:target_ibdex2]\n",
    "    print(\"About Details about of person:\\n\",Info3)\n",
    "elif 'Sports' in info2:\n",
    "    target_ibdex2 = info2.index('Sports')\n",
    "    Info3 =info2[:target_ibdex2]\n",
    "    print(\"About Details about of person:\\n\",Info3)\n",
    "else:\n",
    "    target_ibdex2 = info2.index('Keyboard shortcut help')\n",
    "    Info3 =info2[:target_ibdex2]\n",
    "    print(\"About Details about of person:\\n\",Info3)\n",
    "    \n"
   ]
  },
  {
   "cell_type": "code",
   "execution_count": null,
   "metadata": {},
   "outputs": [],
   "source": []
  }
 ],
 "metadata": {
  "kernelspec": {
   "display_name": "Python 3",
   "language": "python",
   "name": "python3"
  },
  "language_info": {
   "codemirror_mode": {
    "name": "ipython",
    "version": 3
   },
   "file_extension": ".py",
   "mimetype": "text/x-python",
   "name": "python",
   "nbconvert_exporter": "python",
   "pygments_lexer": "ipython3",
   "version": "3.6.8"
  }
 },
 "nbformat": 4,
 "nbformat_minor": 4
}
