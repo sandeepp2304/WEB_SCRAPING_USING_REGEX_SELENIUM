{
 "cells": [
  {
   "cell_type": "markdown",
   "metadata": {},
   "source": [
    "# WEB_SCRAPING"
   ]
  },
  {
   "cell_type": "markdown",
   "metadata": {},
   "source": [
    "# TIMELINE"
   ]
  },
  {
   "cell_type": "code",
   "execution_count": 1,
   "metadata": {},
   "outputs": [],
   "source": [
    "# import web driver\n",
    "from selenium import webdriver\n",
    "import re\n",
    "import json\n",
    "import difflib\n",
    "from time import sleep"
   ]
  },
  {
   "cell_type": "code",
   "execution_count": 2,
   "metadata": {},
   "outputs": [],
   "source": [
    "# specifies the path to the chromedriver.exe\n",
    "driver = webdriver.Chrome('C://Users//USER//Desktop//chromedriver.exe')\n",
    "# driver = webdriver.Firefox()\n",
    "# \n",
    "# driver.get method() will navigate to a page given by the URL address\n",
    "driver.get('https://www.facebook.com/')"
   ]
  },
  {
   "cell_type": "code",
   "execution_count": 3,
   "metadata": {},
   "outputs": [],
   "source": [
    "from time import sleep\n",
    "driver.find_element_by_xpath('//*[@id=\"email\"]').send_keys('johnsonMLAI2304@gmail.com')\n",
    "driver.find_element_by_xpath('//*[@id=\"pass\"]').send_keys('johnsonMLAI2304@007')\n",
    "driver.find_element_by_xpath('//*[@id=\"u_0_b\"]').click()\n",
    "sleep(5)\n"
   ]
  },
  {
   "cell_type": "code",
   "execution_count": 4,
   "metadata": {},
   "outputs": [],
   "source": [
    "# driver.get('https://www.facebook.com/pulijala.sandeep.1')\n",
    "# driver.get('https://www.facebook.com/logoutsoon')\n",
    "# driver.get(\"https://www.facebook.com/profile.php?id=100000525500124\")\n",
    "# driver.get(\"https://www.facebook.com/saikrishna.chetty\")\n",
    "driver.get(\"https://www.facebook.com/acentsai\")\n",
    "# driver.get(\"https://www.facebook.com/profile.php?id=100050451848014\")"
   ]
  },
  {
   "cell_type": "code",
   "execution_count": 5,
   "metadata": {},
   "outputs": [],
   "source": [
    "Personal_Info = dict()\n",
    "Tilte = driver.title\n",
    "Personal_Info['Profile_Name']= Tilte"
   ]
  },
  {
   "cell_type": "code",
   "execution_count": 6,
   "metadata": {},
   "outputs": [],
   "source": [
    "test_string = driver.current_url\n",
    "spl_word = 'https://www.facebook.com/profile.php?id='\n",
    "spl_word1 = 'https://www.facebook.com/'\n",
    "spl_word2 = 'https://www.facebook.com/profile.php?id='\n",
    "if spl_word in test_string:\n",
    "    res1 = test_string.partition(spl_word2)[2]\n",
    "    Personal_Info['User_Id']= res1\n",
    "else:\n",
    "    res1 = test_string.partition(spl_word1)[2]\n",
    "    Personal_Info['User_Name']=res1"
   ]
  },
  {
   "cell_type": "code",
   "execution_count": 7,
   "metadata": {},
   "outputs": [],
   "source": [
    "test_list = re.findall(r'\">(.*?)<',driver.page_source)\n",
    "without_empty_strings = [string for string in test_list if string != \"\"]\n",
    "Profile_Name = without_empty_strings[0]\n",
    "# print(\"Profile_Name:\",Profile_Name)\n",
    "Address = without_empty_strings[1]\n",
    "Address = json.loads(Address) \n",
    "if 'jobTitle' in Address:\n",
    "    Job_Title= Address['jobTitle']\n",
    "    Personal_Info['Job_Title']= Job_Title\n",
    "else: \n",
    "    Personal_Info['Job_Title']= None\n",
    "if 'address' in Address:\n",
    "    Address1 =Address['address']['addressLocality']\n",
    "    Personal_Info['Local_Address']= Address1\n",
    "else: \n",
    "    Personal_Info['Local_Address'] = None\n",
    "if 'affiliation' in Address:\n",
    "    Affiliation= Address['affiliation']\n",
    "    Personal_Info['Organisation_Name']= Affiliation\n",
    "else: \n",
    "    Personal_Info['Organisation_Name']= None"
   ]
  },
  {
   "cell_type": "code",
   "execution_count": 8,
   "metadata": {},
   "outputs": [],
   "source": [
    "urls = re.findall(r'(https?://\\S+)', driver.page_source)\n",
    "User_ID_Urls = []\n",
    "for url in urls:\n",
    "    if \"https://www.facebook.com/profile.php?id=\" in url:\n",
    "        User_ID_Urls.append(url)\n",
    "User_ID_Url = User_ID_Urls[0]\n",
    "spl_word = \"https://www.facebook.com/profile.php?id=\"\n",
    "res1 = User_ID_Url.partition(spl_word)[2] \n",
    "USER_ID1 = res1[:-1]\n",
    "Personal_Info['USER_ID1']= USER_ID1"
   ]
  },
  {
   "cell_type": "code",
   "execution_count": 9,
   "metadata": {},
   "outputs": [],
   "source": [
    "if \"Intro\" in without_empty_strings:\n",
    "    target_ibdex3 = without_empty_strings.index(\"Intro\")\n",
    "    info1 =without_empty_strings[target_ibdex3+1:]\n",
    "    list = ['Friends','Photos','Videos','Check_ins','Sports','Music','Films','Keyboard shortcut help']\n",
    "    index1 = []\n",
    "    for i in list:\n",
    "    #     print(i)\n",
    "        for j in info1:\n",
    "    #         if i in info:\n",
    "            if i == j:\n",
    "                index = info1.index(i)\n",
    "    #             print(index)\n",
    "                index1.append(index)\n",
    "            else:\n",
    "                pass\n",
    "    Info1 =info1[:min(index1)]\n",
    "    INFO = []\n",
    "    for id,line in enumerate(Info1):\n",
    "        if 'at' in line:\n",
    "            line1 = Info1[id]+Info1[id+1]\n",
    "            INFO.append(line1)\n",
    "            Info1.pop(id+1)\n",
    "        elif 'From' in line:\n",
    "            line1 = Info1[id]+Info1[id+1]\n",
    "            INFO.append(line1)\n",
    "            Info1.pop(id+1)\n",
    "        elif 'Joined on ' in line:\n",
    "            INFO.append(line)\n",
    "        elif 'by' in line:\n",
    "            line1 = Info1[id]+Info1[id+1]\n",
    "            INFO.append(line1)\n",
    "            Info1.pop(id+1)\n",
    "        elif 'to' in line:\n",
    "            line1 = Info1[id]+Info1[id+1]\n",
    "            INFO.append(line1)\n",
    "            Info1.pop(id+1)\n",
    "    #     elif 'single' in line:\n",
    "    #         print(line)\n",
    "        elif 'Single'== line:\n",
    "            INFO.append(line)\n",
    "        elif 'Maried'==  line:\n",
    "            INFO.append(line)\n",
    "        elif 'Engaged'==  line:\n",
    "            INFO.append(line)   \n",
    "        elif 'in' in line:      \n",
    "            line1 = Info1[id]+Info1[id+1]\n",
    "            INFO.append(line1)\n",
    "            Info1.pop(id+1)\n",
    "        elif 'of' in line:\n",
    "                line1 = Info1[id]+Info1[id+1]\n",
    "                INFO.append(line1)\n",
    "                Info1.pop(id+1)\n",
    "        else:\n",
    "    #         Info1.pop(id)\n",
    "            INFO.append(line1)\n",
    "else:\n",
    "    pass  \n",
    "Personal_Info['INTRO']= INFO"
   ]
  },
  {
   "cell_type": "code",
   "execution_count": 10,
   "metadata": {},
   "outputs": [],
   "source": [
    "Cover_Photo_Urls = []\n",
    "urls = re.findall(r'(https?://\\S+)', driver.page_source)\n",
    "for url in urls:\n",
    "    if \"https://scontent.fhyd2-1.fna.fbcdn.net/v/\" in url:\n",
    "        if \"/p240x240/\" not in url:\n",
    "            if \"/p160x160/\" not in url: \n",
    "                if \"/p40x40\" not in url:\n",
    "                    if \"/p50x50\" not in url:\n",
    "            #         print(url)\n",
    "                        Cover_Photo1 = url.replace(\"amp;\", \"\")\n",
    "    #                     print(Cover_Photo1)\n",
    "                        Cover_Photo_Url = Cover_Photo1.replace('\"','')\n",
    "    #                     print(Cover_Photo_Url)\n",
    "                        Cover_Photo_Urls .append(Cover_Photo_Url)\n",
    "        else:\n",
    "            pass\n",
    "if len(Cover_Photo_Urls[0])>300:\n",
    "    Cover_Photo1 = \"No_Cover_Photo\"\n",
    "    Personal_Info['Cover_Photo']= Cover_Photo1\n",
    "else:\n",
    "    Cover_Photo1 = Cover_Photo_Urls[0]\n",
    "    Personal_Info['Cover_Photo']= Cover_Photo1"
   ]
  },
  {
   "cell_type": "code",
   "execution_count": 11,
   "metadata": {},
   "outputs": [],
   "source": [
    "Profile_Photo_Urls = []\n",
    "for url in urls:\n",
    "    if \"https://scontent.fhyd2-1.fna.fbcdn.net/v\" in url:\n",
    "        if \"/p240x240/\" in url:\n",
    "#             print(url)\n",
    "            Profile_Photo1 = url.replace(\"amp;\", \"\")\n",
    "#             print(Profile_Photo1)\n",
    "            if '\"' in Profile_Photo1:\n",
    "                target_ibdex8 = Profile_Photo1.index('\"')\n",
    "                Ainfo8 =Profile_Photo1[:target_ibdex8]\n",
    "#                 print(Ainfo8)\n",
    "                Ainfo8 =Profile_Photo1[:target_ibdex8]\n",
    "#             print(\"Profile image of the person:\\n\",Ainfo8)\n",
    "                Profile_Photo_Urls .append(Ainfo8)\n",
    "# print(\"Profile image of the person:\\n\",Profile_Photo_Urls[0])\n",
    "                \n",
    "        else:\n",
    "            pass\n",
    "if len(Profile_Photo_Urls[0])>300:\n",
    "    Profile_Photo1 = \"No_Profile_Photo\"\n",
    "    Personal_Info['Profile_Photo']= Profile_Photo1\n",
    "else:\n",
    "    Profile_Photo1 = Profile_Photo_Urls[0]\n",
    "    Personal_Info['Profile_Photo']= Profile_Photo1"
   ]
  },
  {
   "cell_type": "markdown",
   "metadata": {},
   "source": [
    "# ABOUT"
   ]
  },
  {
   "cell_type": "code",
   "execution_count": 12,
   "metadata": {},
   "outputs": [],
   "source": [
    "# About Details\n",
    "# 'Overview',\n",
    "#  'Work and education',\n",
    "#  \"Places He's Lived\",\n",
    "#  'Contact and basic info',\n",
    "#  'Family and relationships',\n",
    "#  'Details About Amit',\n",
    "#  'Life events',"
   ]
  },
  {
   "cell_type": "markdown",
   "metadata": {},
   "source": [
    "# 1"
   ]
  },
  {
   "cell_type": "code",
   "execution_count": 13,
   "metadata": {},
   "outputs": [],
   "source": [
    "#about\n",
    "#Over_view"
   ]
  },
  {
   "cell_type": "code",
   "execution_count": 14,
   "metadata": {},
   "outputs": [],
   "source": [
    "driver.find_element_by_xpath('//*[@id=\"u_0_10\"]/li[2]/a').click()\n",
    "sleep(5)"
   ]
  },
  {
   "cell_type": "code",
   "execution_count": 15,
   "metadata": {},
   "outputs": [],
   "source": [
    "def About_data(driver):\n",
    "    list = ['Friends','Photos','Videos','Check_ins','Sports','Music','Films','Keyboard shortcut help']\n",
    "    index1 = []\n",
    "    test_list = re.findall(r'>(.*?)<',driver.page_source)\n",
    "    without_empty_strings = [string for string in test_list if string != \"\"]\n",
    "    target_ibdex = without_empty_strings.index('About Section Navigation')\n",
    "    info =without_empty_strings[target_ibdex:]\n",
    "    info_index = info.index('Life events')\n",
    "    info =info[info_index+1:]\n",
    "    index1 = []\n",
    "    for i in list:\n",
    "    #     print(i)\n",
    "        for j in info:\n",
    "    #         if i in info:\n",
    "            if i == j:\n",
    "                index = info.index(i)\n",
    "    #             print(index)\n",
    "                index1.append(index)\n",
    "            else:\n",
    "                pass\n",
    "#     print(index1)\n",
    "#     print(min(index1))\n",
    "    Info =info[:min(index1)]\n",
    "    return Info"
   ]
  },
  {
   "cell_type": "code",
   "execution_count": 16,
   "metadata": {},
   "outputs": [],
   "source": [
    "Info = About_data(driver)"
   ]
  },
  {
   "cell_type": "code",
   "execution_count": 17,
   "metadata": {},
   "outputs": [],
   "source": [
    "Over_View = []\n",
    "for id,line in enumerate(Info):\n",
    "    if 'Works' in line:\n",
    "        line1 = Info[id]+Info[id+1]\n",
    "        Over_View.append(line1)\n",
    "        Info.pop(id+1)\n",
    "    elif 'Studies' in line:\n",
    "        line1 = Info[id]+Info[id+1]\n",
    "        Over_View.append(line1)\n",
    "        Info.pop(id+1)\n",
    "    elif 'Studied' in line:\n",
    "        line1 = Info[id]+Info[id+1]\n",
    "        Over_View.append(line1)\n",
    "        Info.pop(id+1)\n",
    "    elif 'Lives in ' in line:\n",
    "        line1 = Info[id]+Info[id+1]\n",
    "        Over_View.append(line1)\n",
    "        Info.pop(id+1)\n",
    "    elif 'Lived in ' in line:\n",
    "        line1 = Info[id]+Info[id+1]\n",
    "        Over_View.append(line1)\n",
    "        Info.pop(id+1)\n",
    "\n",
    "    elif 'From ' in line:\n",
    "        line1 = Info[id]+Info[id+1]\n",
    "        Over_View.append(line1)\n",
    "        Info.pop(id+1)\n",
    "    else:\n",
    "        Over_View.append(line)"
   ]
  },
  {
   "cell_type": "code",
   "execution_count": 18,
   "metadata": {},
   "outputs": [],
   "source": [
    "Personal_Info['Profile_Overview']= Over_View"
   ]
  },
  {
   "cell_type": "markdown",
   "metadata": {},
   "source": [
    "# 2"
   ]
  },
  {
   "cell_type": "code",
   "execution_count": 19,
   "metadata": {},
   "outputs": [],
   "source": [
    "#about\n",
    "#Work and education"
   ]
  },
  {
   "cell_type": "code",
   "execution_count": 20,
   "metadata": {},
   "outputs": [],
   "source": [
    "driver.find_element_by_xpath('//*[@id=\"pagelet_timeline_app_collection_100003817166963:2327158227:8\"]/ul/li[2]/div/div[1]/div/div/div/a[2]/span[1]').click()\n",
    "sleep(5)"
   ]
  },
  {
   "cell_type": "code",
   "execution_count": 21,
   "metadata": {},
   "outputs": [],
   "source": [
    "Info2 = About_data(driver)"
   ]
  },
  {
   "cell_type": "code",
   "execution_count": 22,
   "metadata": {},
   "outputs": [],
   "source": [
    "if \"Work\" in Info2:\n",
    "    target_ibdex4 = Info2.index('Work')\n",
    "    list1 = ['Education','Friends','Photos','Videos','Check_ins','Sports','Music','Films','Keyboard shortcut help']\n",
    "    index2 = []\n",
    "    for i in list1:\n",
    "    #     print(i)\n",
    "        for j in Info2:\n",
    "    #         if i in info:\n",
    "            if i == j:\n",
    "                index = Info2.index(i)\n",
    "    #             print(index)\n",
    "                index2.append(index)\n",
    "            else:\n",
    "                pass  \n",
    "    target_ibdex5 = min(index2)\n",
    "    Info5 =Info2[1:target_ibdex5] \n",
    "    Personal_Info['Work']= Info5\n",
    "else:\n",
    "    Personal_Info['Work']= None"
   ]
  },
  {
   "cell_type": "code",
   "execution_count": 23,
   "metadata": {},
   "outputs": [],
   "source": [
    "if \"Education\" in Info2:\n",
    "    target_ibdex4 = Info2.index('Education')\n",
    "    Info5 = Info2[target_ibdex4+1:]\n",
    "    Personal_Info['Education']= Info5\n",
    "else:\n",
    "    Personal_Info['Education'] = None\n"
   ]
  },
  {
   "cell_type": "markdown",
   "metadata": {},
   "source": [
    "# 3"
   ]
  },
  {
   "cell_type": "code",
   "execution_count": 24,
   "metadata": {},
   "outputs": [],
   "source": [
    "#about\n",
    "#Places he/she lived"
   ]
  },
  {
   "cell_type": "code",
   "execution_count": 25,
   "metadata": {},
   "outputs": [],
   "source": [
    "driver.find_element_by_xpath('//*[@id=\"pagelet_timeline_app_collection_100003817166963:2327158227:8\"]/ul/li[2]/div/div[1]/div/div/div/a[3]/span[1]').click()\n",
    "sleep(5)"
   ]
  },
  {
   "cell_type": "code",
   "execution_count": 26,
   "metadata": {},
   "outputs": [],
   "source": [
    "Info2 =  About_data(driver)"
   ]
  },
  {
   "cell_type": "code",
   "execution_count": 27,
   "metadata": {},
   "outputs": [],
   "source": [
    "    if \"Current city\" in Info2:\n",
    "        target_ibdex4 = Info2.index('Current city')\n",
    "        Info5 = Info2[1:target_ibdex4]\n",
    "        Personal_Info['Current city']= Info5\n",
    "    else:\n",
    "        Personal_Info['Current city']= None"
   ]
  },
  {
   "cell_type": "code",
   "execution_count": 28,
   "metadata": {},
   "outputs": [],
   "source": [
    "if \"Home Town\" in Info2:\n",
    "    target_ibdex4 = Info2.index('Home Town')\n",
    "    if 'Current city' in Info2:\n",
    "        target_ibdex4 = Info2.index('Home Town')\n",
    "        target_ibdex5 = Info2.index('Current city')\n",
    "        #     print(target_ibdex4)\n",
    "        Info5 = Info2[target_ibdex5+1:target_ibdex4]\n",
    "    #     Info5 = ' '.join(map(str, Info5)) \n",
    "        Personal_Info['Home Town']= Info5\n",
    "    else:\n",
    "        target_ibdex4 = Info2.index('Home Town')\n",
    "        target_ibdex5 = Info2.index('Current City and Home Town')\n",
    "        Info5 = Info2[target_ibdex5+1:target_ibdex4]\n",
    "        Personal_Info['Home Town']= Info5\n",
    "else:\n",
    "    Personal_Info['Home Town']= None\n"
   ]
  },
  {
   "cell_type": "code",
   "execution_count": 29,
   "metadata": {},
   "outputs": [],
   "source": [
    "if \"Other Places Lived\" in Info2:\n",
    "    target_ibdex4 = Info2.index('Other Places Lived')\n",
    "    Info5 = Info2[target_ibdex4:]\n",
    "    Personal_Info['Other Places Lived']= Info5\n",
    "else:\n",
    "    Personal_Info['Other Places Lived']= None\n"
   ]
  },
  {
   "cell_type": "markdown",
   "metadata": {},
   "source": [
    "# 4"
   ]
  },
  {
   "cell_type": "code",
   "execution_count": 30,
   "metadata": {},
   "outputs": [],
   "source": [
    "#about\n",
    "#Contact and basic info"
   ]
  },
  {
   "cell_type": "code",
   "execution_count": 31,
   "metadata": {},
   "outputs": [],
   "source": [
    "driver.find_element_by_xpath('//*[@id=\"pagelet_timeline_app_collection_100003817166963:2327158227:8\"]/ul/li[2]/div/div[1]/div/div/div/a[4]/span[1]').click()\n",
    "sleep(5)"
   ]
  },
  {
   "cell_type": "code",
   "execution_count": 32,
   "metadata": {},
   "outputs": [],
   "source": [
    "Info2 =  About_data(driver)"
   ]
  },
  {
   "cell_type": "code",
   "execution_count": 33,
   "metadata": {},
   "outputs": [],
   "source": [
    "if \"Contact Information\" in Info2:\n",
    "    target_ibdex4 = Info2.index('Contact Information')\n",
    "    target_ibdex5 = Info2.index('Basic Information')\n",
    "    Info5 = Info2[1:target_ibdex5] \n",
    "    Personal_Info['Contact Information'] = Info5\n",
    "else:\n",
    "    Personal_Info['Contact Information']= None"
   ]
  },
  {
   "cell_type": "code",
   "execution_count": 34,
   "metadata": {},
   "outputs": [],
   "source": [
    "if \"Basic Information\" in Info2:\n",
    "    target_ibdex4 = Info2.index('Basic Information')\n",
    "#     print(target_ibdex4)\n",
    "    Info5 = Info2[target_ibdex4+1:]\n",
    "#     Info5 = ' '.join(map(str, Info5)) \n",
    "    Personal_Info['Basic Information'] = Info5\n",
    "else:\n",
    "    Personal_Info['Basic Information'] = None\n"
   ]
  },
  {
   "cell_type": "markdown",
   "metadata": {},
   "source": [
    "# 5"
   ]
  },
  {
   "cell_type": "code",
   "execution_count": 35,
   "metadata": {},
   "outputs": [],
   "source": [
    "# about\n",
    "# Family and Relationships"
   ]
  },
  {
   "cell_type": "code",
   "execution_count": 36,
   "metadata": {},
   "outputs": [],
   "source": [
    "driver.find_element_by_xpath('//*[@id=\"pagelet_timeline_app_collection_100003817166963:2327158227:8\"]/ul/li[2]/div/div[1]/div/div/div/a[5]/span[1]').click()\n",
    "sleep(5)"
   ]
  },
  {
   "cell_type": "code",
   "execution_count": 37,
   "metadata": {},
   "outputs": [],
   "source": [
    "Info2 =  About_data(driver)"
   ]
  },
  {
   "cell_type": "code",
   "execution_count": 38,
   "metadata": {},
   "outputs": [],
   "source": [
    "#Relation_Ship"
   ]
  },
  {
   "cell_type": "code",
   "execution_count": 39,
   "metadata": {},
   "outputs": [],
   "source": [
    "if \"Relationship\" in Info2:\n",
    "    target_ibdex4 = Info2.index('Relationship')\n",
    "    target_ibdex5 = Info2.index('Family Members')\n",
    "    Info5 = Info2[1:target_ibdex5]\n",
    "    f1_index = driver.page_source.index('>Relationship<')\n",
    "    f1_text = driver.page_source[f1_index:]\n",
    "    f2_index = f1_text.index('>Family Members<')\n",
    "    f2_text = f1_text[1:f2_index]\n",
    "else:\n",
    "    pass"
   ]
  },
  {
   "cell_type": "code",
   "execution_count": 44,
   "metadata": {},
   "outputs": [],
   "source": [
    "import math\n",
    "Relation_ships = []\n",
    "Relation_ship = []\n",
    "if 'No relationship info to show' in f2_text:\n",
    "    Relationship = \"NO_RELATIONSHIP_INFORMATION\"\n",
    "    Personal_Info['Relationship_Data']= Relationship\n",
    "else:\n",
    "    for i,name in enumerate(Info5):\n",
    "        f = f2_text.count(name)\n",
    "        if f==2:\n",
    "            Relation_ships.append(name)\n",
    "        elif f==1:\n",
    "            Relation_ship.append(name)\n",
    "        else:\n",
    "            pass"
   ]
  },
  {
   "cell_type": "code",
   "execution_count": 45,
   "metadata": {},
   "outputs": [],
   "source": [
    "Relation_Ships_data = []\n",
    "if len(Relation_ships)>=1:\n",
    "    for a in Relation_ships:\n",
    "        Relation_Ships_data.append(a)\n",
    "        f = f2_text.rindex(a)\n",
    "        f_index = f\n",
    "        Ainfo6 =f2_text[:f_index]\n",
    "        g = Ainfo6.rindex(a)\n",
    "        g_index = g\n",
    "        Ainfo7 =Ainfo6[g_index:]\n",
    "        friend2_url = re.findall(r'(https?://\\S+)', Ainfo7)\n",
    "        friend2_url = friend2_url[0].replace(\"amp;\", \"\")\n",
    "        friend2_url = friend2_url[:-1]\n",
    "        Relation_Ships_data.append(friend2_url)\n",
    "        spl_word = 'https://www.facebook.com/profile.php?id='\n",
    "        spl_word1 = 'https://www.facebook.com/'\n",
    "        spl_word2 = 'https://www.facebook.com/profile.php?id='\n",
    "        if spl_word in friend2_url:\n",
    "            res1 = friend2_url.partition(spl_word2)[2] \n",
    "            if '&' in res1:\n",
    "                target_ibdex2 = res1.index('&')\n",
    "                uName1 = res1[:target_ibdex2]\n",
    "                Relation_Ships_data.append(uName1)\n",
    "            else:\n",
    "                Relation_Ships_data.append(res1)\n",
    "        else:\n",
    "            res1 = friend2_url.partition(spl_word1)[2]\n",
    "            if '?' in res1:\n",
    "                target_ibdex3 = res1.index('?')\n",
    "                uName2 = res1[:target_ibdex3]\n",
    "                Relation_Ships_data.append(uName2)\n",
    "            else:\n",
    "                Relation_Ships_data.append(res1)\n",
    "else:\n",
    "    pass\n",
    "Relation_Ships_data1 = [Relation_Ships_data[3*i:3*i+3] for i in range(0,math.ceil(len(Relation_Ships_data)/3))]"
   ]
  },
  {
   "cell_type": "code",
   "execution_count": 46,
   "metadata": {},
   "outputs": [],
   "source": [
    "if len(Relation_ship)>=1:\n",
    "    Personal_Info['Relationship_Data'] = Relation_ship\n",
    "elif len(Relation_ships)>=1:\n",
    "    Personal_Info['Relationship_Data'] = Relation_Ships_data1\n",
    "else:\n",
    "    Personal_Info['Relationship_Data'] = None"
   ]
  },
  {
   "cell_type": "code",
   "execution_count": 48,
   "metadata": {},
   "outputs": [],
   "source": [
    "# Family Members"
   ]
  },
  {
   "cell_type": "code",
   "execution_count": 49,
   "metadata": {},
   "outputs": [],
   "source": [
    "if \"Family Members\" in Info2:\n",
    "    target_ibdex4 = Info2.index('Family Members')\n",
    "    Info5 = Info2[target_ibdex4+1:]\n",
    "    Info5 = [e for e in Info5 if e not in ('Cousin','Friend','Father','Mother','Brother','Sister')]\n",
    "    f1_index = driver.page_source.index('>Family Members<')\n",
    "    f1_text = driver.page_source[f1_index:]\n",
    "    if '>Friends<' in f1_text:\n",
    "        f2_index = f1_text.index('>Friends<')\n",
    "        f2_text = f1_text[:f2_index]\n",
    "    #     print(f2_index)\n",
    "    elif '>Photos<' in f1_text:\n",
    "        f2_index = f1_text.index('>Photos<')\n",
    "        f2_text = f1_text[:f2_index]\n",
    "    #     print(f2_index)\n",
    "    elif '>Videos<' in f1_text:\n",
    "        f2_index = f1_text.index('>Videos<')\n",
    "        f2_text = f1_text[:f2_index]\n",
    "    else:\n",
    "        f2_index = f1_text.index('>Check_Ins<')\n",
    "        f2_text = f1_text[:f2_index]\n",
    "else:    \n",
    "    pass"
   ]
  },
  {
   "cell_type": "code",
   "execution_count": 50,
   "metadata": {},
   "outputs": [],
   "source": [
    "Family_Members = []\n",
    "Family_Member = []\n",
    "if 'No family members to show' in f2_text:\n",
    "    Family_Member1 = \"NO_FAMILY_MEMBERS_INFORMATION\"\n",
    "    Personal_Info['Family_memeber_Data']= Family_Member1 \n",
    "else:\n",
    "    for i,name in enumerate(Info5):\n",
    "        f = f2_text.count(name)\n",
    "        if f==2:\n",
    "            Family_Members.append(name)\n",
    "        elif f==1:\n",
    "            Family_Member.append(name)\n",
    "        else:\n",
    "            pass                                                                                                 "
   ]
  },
  {
   "cell_type": "code",
   "execution_count": 51,
   "metadata": {},
   "outputs": [],
   "source": [
    "Family_Members_Data = []\n",
    "if len(Family_Members)>=1:\n",
    "#     user_name = []\n",
    "    for a in Family_Members:\n",
    "        Family_Members_Data.append(a)\n",
    "        f = f2_text.rindex(a)\n",
    "        f_index = f\n",
    "    #     print(f_index)\n",
    "        Ainfo6 =f2_text[:f_index]\n",
    "        g = Ainfo6.rindex(a)\n",
    "        g_index = g\n",
    "    #     print(g_index)\n",
    "        Ainfo7 =Ainfo6[g_index:]\n",
    "    #     print(Ainfo7)\n",
    "        friend2_url = re.findall(r'(https?://\\S+)', Ainfo7)\n",
    "    #     print(friend2_url)\n",
    "        friend2_url = friend2_url[0].replace(\"amp;\", \"\")\n",
    "        friend2_url = friend2_url[:-1]\n",
    "        Family_Members_Data.append(friend2_url)\n",
    "    #     spl_word = 'https://www.facebook.com/'\n",
    "        spl_word = 'https://www.facebook.com/profile.php?id='\n",
    "        spl_word1 = 'https://www.facebook.com/'\n",
    "        spl_word2 = 'https://www.facebook.com/profile.php?id='\n",
    "        # test_string = driver1.current_url\n",
    "        if spl_word in friend2_url:\n",
    "            res1 = friend2_url.partition(spl_word2)[2] \n",
    "    #         print(res1)\n",
    "            if '&' in res1:\n",
    "            \n",
    "                target_ibdex2 = res1.index('&')\n",
    "                # print(target_ibdex2)\n",
    "                uName1 = res1[:target_ibdex2]\n",
    "                Family_Members_Data.append(uName1)\n",
    "            else:\n",
    "                Family_Members_Data.append(res1)\n",
    "        else:\n",
    "            res1 = friend2_url.partition(spl_word1)[2]\n",
    "    #         print(res1)\n",
    "            if '?' in res1:\n",
    "                target_ibdex3 = res1.index('?')\n",
    "        #         print(target_ibdex3)\n",
    "                uName2 = res1[:target_ibdex3]\n",
    "                Family_Members_Data.append(uName2)\n",
    "    #         user_name.append(uName2)\n",
    "            else:\n",
    "               Family_Members_Data.append(res1)\n",
    "\n",
    "\n",
    "\n",
    "#         print(\"\\n End_Of_User_Details \\n \" ) \n",
    "else:\n",
    "    pass\n",
    "Family_Members_Data1 = [Family_Members_Data[3*i:3*i+3] for i in range(0,math.ceil(len(Family_Members_Data)/3))]"
   ]
  },
  {
   "cell_type": "code",
   "execution_count": 53,
   "metadata": {},
   "outputs": [],
   "source": [
    "if len(Family_Member)>0:\n",
    "    Personal_Info['Family_memeber_Data']= Family_Member\n",
    "elif len(Family_Members)>0:\n",
    "    Personal_Info['Family_memeber_Data'] = Family_Members_Data1\n",
    "else:\n",
    "    Personal_Info['Family_memeber_Data']= None\n"
   ]
  },
  {
   "cell_type": "markdown",
   "metadata": {},
   "source": [
    "# 6"
   ]
  },
  {
   "cell_type": "code",
   "execution_count": 55,
   "metadata": {},
   "outputs": [],
   "source": [
    "#about\n",
    "#Details about Person"
   ]
  },
  {
   "cell_type": "code",
   "execution_count": 56,
   "metadata": {},
   "outputs": [],
   "source": [
    "driver.find_element_by_xpath('//*[@id=\"pagelet_timeline_app_collection_100003817166963:2327158227:8\"]/ul/li[2]/div/div[1]/div/div/div/a[6]/span[1]').click()\n",
    "sleep(5)"
   ]
  },
  {
   "cell_type": "code",
   "execution_count": 57,
   "metadata": {},
   "outputs": [],
   "source": [
    "Info2 =  About_data(driver)"
   ]
  },
  {
   "cell_type": "code",
   "execution_count": 58,
   "metadata": {},
   "outputs": [],
   "source": [
    "About_Name = Info2[0]\n",
    "if  About_Name in Info2:\n",
    "#     target_ibdex4 = Info2.index(About_Name)\n",
    "    target_ibdex4 = 0\n",
    "    if 'Other Names' in Info2:\n",
    "        target_ibdex5 = Info2.index('Other Names')\n",
    "        Info5 = Info2[1:target_ibdex5]\n",
    "        Personal_Info[About_Name] = Info5\n",
    "    elif 'Favourite Quotes' in Info2:\n",
    "        target_ibdex5 = Info2.index('Favourite Quotes')\n",
    "        Info5 = Info2[1:target_ibdex5]\n",
    "        Personal_Info[About_Name] = Info5\n",
    "else:\n",
    "    pass"
   ]
  },
  {
   "cell_type": "code",
   "execution_count": 59,
   "metadata": {},
   "outputs": [],
   "source": [
    "if  About_Name in Info2:\n",
    "    target_ibdex4 = Info2.index(About_Name)\n",
    "    if 'Other Names' in Info2:\n",
    "        target_ibdex5 = Info2.index('Other Names')\n",
    "        target_ibdex4 = Info2.index('Favourite Quotes')\n",
    "        Info5 = Info2[target_ibdex5+1:target_ibdex4]\n",
    "        Personal_Info['Other Names'] = Info5\n",
    "else:\n",
    "    pass"
   ]
  },
  {
   "cell_type": "code",
   "execution_count": 60,
   "metadata": {},
   "outputs": [],
   "source": [
    "if 'Favourite Quotes' in Info2:\n",
    "    target_ibdex5 = Info2.index('Favourite Quotes')\n",
    "    Info5 = Info2[target_ibdex5+1:]\n",
    "    Personal_Info['Favourite Quotes'] = Info5\n",
    "else:\n",
    "    pass"
   ]
  },
  {
   "cell_type": "markdown",
   "metadata": {},
   "source": [
    "# 7"
   ]
  },
  {
   "cell_type": "code",
   "execution_count": 61,
   "metadata": {},
   "outputs": [],
   "source": [
    "#about\n",
    "#Life_Events"
   ]
  },
  {
   "cell_type": "code",
   "execution_count": 62,
   "metadata": {},
   "outputs": [],
   "source": [
    "driver.find_element_by_xpath('//*[@id=\"pagelet_timeline_app_collection_100003817166963:2327158227:8\"]/ul/li[2]/div/div[1]/div/div/div/a[7]/span[1]').click()\n",
    "sleep(5)"
   ]
  },
  {
   "cell_type": "code",
   "execution_count": 63,
   "metadata": {},
   "outputs": [],
   "source": [
    "Info2 =  About_data(driver)"
   ]
  },
  {
   "cell_type": "code",
   "execution_count": 64,
   "metadata": {},
   "outputs": [],
   "source": [
    "years = []\n",
    "if  'Life events' in Info2:\n",
    "    target_ibdex4 = Info2.index('Life events')\n",
    "    Info5 = Info2[target_ibdex4+1:]\n",
    "    for i in Info5:\n",
    "        i1 = i.isdigit()\n",
    "        if i1 == True:\n",
    "            year_Index = Info5.index(i)+1\n",
    "            years.append(year_Index)\n",
    "else:\n",
    "    pass"
   ]
  },
  {
   "cell_type": "code",
   "execution_count": 65,
   "metadata": {},
   "outputs": [],
   "source": [
    "output = []\n",
    "prev = 0\n",
    "for index in years:\n",
    "    output.append(Info2[prev:index])\n",
    "    prev = index\n",
    "\n",
    "output.append(Info2[years[-1]:])\n",
    "# Life events = output[1:]\n",
    "# Personal_Info[\"Life events\"]=L\n",
    "if len(output)>1:\n",
    "    Personal_Info[\"Life events\"]=output[1:]\n",
    "else:\n",
    "    Personal_Info[\"Life events\"]= None"
   ]
  },
  {
   "cell_type": "code",
   "execution_count": 67,
   "metadata": {},
   "outputs": [],
   "source": [
    "import json\n",
    "\n",
    "with open('C://Users//USER//Desktop//PROFILE_DATA1.json', 'w') as fp:\n",
    "    json.dump(Personal_Info, fp)"
   ]
  },
  {
   "cell_type": "markdown",
   "metadata": {},
   "source": [
    "# FRIENDS"
   ]
  },
  {
   "cell_type": "code",
   "execution_count": 68,
   "metadata": {},
   "outputs": [],
   "source": [
    "# In these section,\n",
    "\n",
    "# if All friends columns is there , then no need to work on remaining like followers and following column\n",
    "\n",
    "# if All friends columns is not there, then need to work on followers and following column"
   ]
  },
  {
   "cell_type": "markdown",
   "metadata": {},
   "source": [
    "# FOLLOWERS"
   ]
  },
  {
   "cell_type": "code",
   "execution_count": null,
   "metadata": {},
   "outputs": [],
   "source": [
    "driver.find_element_by_xpath('//*[@id=\"u_fetchstream_1_0\"]/span[1]').click()\n",
    "sleep(5)"
   ]
  },
  {
   "cell_type": "code",
   "execution_count": null,
   "metadata": {},
   "outputs": [],
   "source": [
    "import re\n",
    "test_list1 = re.findall(r'>(.*?)<',driver.page_source)\n",
    "without_empty_strings1 = [string for string in test_list1 if string != \"\"]\n",
    "# without_empty_strings1"
   ]
  },
  {
   "cell_type": "code",
   "execution_count": null,
   "metadata": {},
   "outputs": [],
   "source": [
    "if 'Find people to follow' in without_empty_strings1:\n",
    "    target_ibdex1 = without_empty_strings1.index('Find people to follow')\n",
    "    Ainfo1 =without_empty_strings1[target_ibdex1+1:]\n",
    "    if 'See more' in Ainfo1:\n",
    "        target_ibdex2 = Ainfo1.index('See more')\n",
    "        Ainfo2 =Ainfo1[:target_ibdex2]\n",
    "    elif '/*' in Ainfo1:\n",
    "        target_ibdex3 = Ainfo1.index('/*')\n",
    "        Ainfo2 =Ainfo1[:target_ibdex3]\n",
    "else:\n",
    "    pass\n"
   ]
  },
  {
   "cell_type": "code",
   "execution_count": null,
   "metadata": {},
   "outputs": [],
   "source": [
    "Info5 = [e for e in Ainfo2 if e not in ('Follow')]\n",
    "Friends_Data = []\n",
    "Personal_Info = dict()\n",
    "if len(Info5)>=1:\n",
    "#     user_name = []\n",
    "    for a in Info5:\n",
    "        Friends_Data.append(a)\n",
    "        f = driver.page_source.rindex(a)\n",
    "        f_index = f\n",
    "    #     print(f_index)\n",
    "        Ainfo6 =driver.page_source[:f_index]\n",
    "        g = Ainfo6.rindex(a)\n",
    "        g_index = g\n",
    "    #     print(g_index)\n",
    "        Ainfo7 =Ainfo6[g_index:]\n",
    "    #     print(Ainfo7)\n",
    "        friend2_url = re.findall(r'(https?://\\S+)', Ainfo7)\n",
    "    #     print(friend2_url)\n",
    "        friend2_url = friend2_url[0].replace(\"amp;\", \"\")\n",
    "        friend2_url = friend2_url[:-1]\n",
    "        Friends_Data.append(friend2_url)\n",
    "    #     spl_word = 'https://www.facebook.com/'\n",
    "        spl_word = 'https://www.facebook.com/profile.php?id='\n",
    "        spl_word1 = 'https://www.facebook.com/'\n",
    "        spl_word2 = 'https://www.facebook.com/profile.php?id='\n",
    "        # test_string = driver1.current_url\n",
    "        if spl_word in friend2_url:\n",
    "            res1 = friend2_url.partition(spl_word2)[2] \n",
    "    #         print(res1)\n",
    "            if '&' in res1:\n",
    "            \n",
    "                target_ibdex2 = res1.index('&')\n",
    "                # print(target_ibdex2)\n",
    "                uName1 = res1[:target_ibdex2]\n",
    "                Friends_Data.append(uName1)\n",
    "            else:\n",
    "                Friends_Data.append(res1)\n",
    "        else:\n",
    "            res1 = friend2_url.partition(spl_word1)[2]\n",
    "    #         print(res1)\n",
    "            if '?' in res1:\n",
    "                target_ibdex3 = res1.index('?')\n",
    "        #         print(target_ibdex3)\n",
    "                uName2 = res1[:target_ibdex3]\n",
    "                Friends_Data.append(uName2)\n",
    "    #         user_name.append(uName2)\n",
    "            else:\n",
    "               Friends_Data.append(res1)\n",
    "else:\n",
    "    pass"
   ]
  },
  {
   "cell_type": "code",
   "execution_count": null,
   "metadata": {},
   "outputs": [],
   "source": [
    "import math\n",
    "Friends_Data1 = [Friends_Data[3*i:3*i+3] for i in range(0,math.ceil(len(Friends_Data)/3))]\n",
    "Personal_Info['Friends_Followes_Data'] = Friends_Data1"
   ]
  },
  {
   "cell_type": "markdown",
   "metadata": {},
   "source": [
    "# FOLLOWING"
   ]
  },
  {
   "cell_type": "code",
   "execution_count": 69,
   "metadata": {},
   "outputs": [],
   "source": [
    "driver.find_element_by_xpath('//*[@id=\"u_fetchstream_2_e\"]/span[1]').click()\n",
    "sleep(5)"
   ]
  },
  {
   "cell_type": "code",
   "execution_count": 70,
   "metadata": {},
   "outputs": [],
   "source": [
    "import re\n",
    "test_list = re.findall(r'>(.*?)<',driver.page_source)\n",
    "without_empty_strings = [string for string in test_list if string != \"\"]\n",
    "# without_empty_strings"
   ]
  },
  {
   "cell_type": "code",
   "execution_count": 75,
   "metadata": {},
   "outputs": [],
   "source": [
    "if 'Search Friends' not in without_empty_strings:\n",
    "    target_ibdex1 = without_empty_strings.index('Following')\n",
    "    Ainfo1 =without_empty_strings[target_ibdex1+1:]\n",
    "    if 'See more' in Ainfo1:\n",
    "        target_ibdex2 = Ainfo1.index('See more')\n",
    "        Ainfo2 =Ainfo1[:target_ibdex2]\n",
    "    elif '/*' in Ainfo1:\n",
    "        target_ibdex3 = Ainfo1.index('/*')\n",
    "        Ainfo2 =Ainfo1[:target_ibdex3]\n",
    "else:\n",
    "    pass\n",
    "    "
   ]
  },
  {
   "cell_type": "code",
   "execution_count": 78,
   "metadata": {},
   "outputs": [],
   "source": [
    "Following = []\n",
    "indices = [Following.append(Ainfo2[index+1]) for index, element in enumerate(Ainfo2) if element == \"Friend request sent\"]"
   ]
  },
  {
   "cell_type": "code",
   "execution_count": 80,
   "metadata": {},
   "outputs": [],
   "source": [
    "Following_Data = []\n",
    "Personal_Info = dict()\n",
    "if len(Following)>=1:\n",
    "#     user_name = []\n",
    "    for a in Following:\n",
    "        Following_Data.append(a)\n",
    "        f = driver.page_source.rindex(a)\n",
    "        f_index = f\n",
    "    #     print(f_index)\n",
    "        Ainfo6 =driver.page_source[:f_index]\n",
    "        g = Ainfo6.rindex(a)\n",
    "        g_index = g\n",
    "    #     print(g_index)\n",
    "        Ainfo7 =Ainfo6[g_index:]\n",
    "    #     print(Ainfo7)\n",
    "        friend2_url = re.findall(r'(https?://\\S+)', Ainfo7)\n",
    "    #     print(friend2_url)\n",
    "        friend2_url = friend2_url[0].replace(\"amp;\", \"\")\n",
    "        friend2_url = friend2_url[:-1]\n",
    "        Following_Data.append(friend2_url)\n",
    "    #     spl_word = 'https://www.facebook.com/'\n",
    "        spl_word = 'https://www.facebook.com/profile.php?id='\n",
    "        spl_word1 = 'https://www.facebook.com/'\n",
    "        spl_word2 = 'https://www.facebook.com/profile.php?id='\n",
    "        # test_string = driver1.current_url\n",
    "        if spl_word in friend2_url:\n",
    "            res1 = friend2_url.partition(spl_word2)[2] \n",
    "    #         print(res1)\n",
    "            if '&' in res1:\n",
    "            \n",
    "                target_ibdex2 = res1.index('&')\n",
    "                # print(target_ibdex2)\n",
    "                uName1 = res1[:target_ibdex2]\n",
    "                Following_Data.append(uName1)\n",
    "            else:\n",
    "                Following_Data.append(res1)\n",
    "        else:\n",
    "            res1 = friend2_url.partition(spl_word1)[2]\n",
    "    #         print(res1)\n",
    "            if '?' in res1:\n",
    "                target_ibdex3 = res1.index('?')\n",
    "        #         print(target_ibdex3)\n",
    "                uName2 = res1[:target_ibdex3]\n",
    "                Following_Data.append(uName2)\n",
    "    #         user_name.append(uName2)\n",
    "            else:\n",
    "                Following_Data.append(res1)\n",
    "else:\n",
    "    pass"
   ]
  },
  {
   "cell_type": "code",
   "execution_count": null,
   "metadata": {},
   "outputs": [],
   "source": [
    "import math\n",
    "Following_Data1 = [Following_Data[3*i:3*i+3] for i in range(0,math.ceil(len(Following_Data)/3))]\n",
    "Personal_Info['Friends_Following_Data'] = Following_Data1"
   ]
  },
  {
   "cell_type": "markdown",
   "metadata": {},
   "source": [
    "# ALL_FRIENDS"
   ]
  },
  {
   "cell_type": "code",
   "execution_count": null,
   "metadata": {},
   "outputs": [],
   "source": [
    "driver.get('https://www.facebook.com/subedi.kancho.737')"
   ]
  },
  {
   "cell_type": "code",
   "execution_count": null,
   "metadata": {},
   "outputs": [],
   "source": [
    "driver.find_element_by_xpath('//*[@id=\"u_fetchstream_1_0\"]/span[1]').click()\n",
    "sleep(5)"
   ]
  },
  {
   "cell_type": "code",
   "execution_count": null,
   "metadata": {},
   "outputs": [],
   "source": [
    "import re\n",
    "test_list = re.findall(r'>(.*?)<',driver.page_source)\n",
    "without_empty_strings = [string for string in test_list if string != \"\"]\n",
    "# without_empty_strings"
   ]
  },
  {
   "cell_type": "code",
   "execution_count": null,
   "metadata": {},
   "outputs": [],
   "source": [
    "if 'Search Friends'  in without_empty_strings:\n",
    "    target_ibdex1 = without_empty_strings.index('Search Friends')\n",
    "    Ainfo1 =without_empty_strings[target_ibdex1+1:]\n",
    "    if 'See more' in Ainfo1:\n",
    "        target_ibdex2 = Ainfo1.index('See more')\n",
    "        Ainfo2 =Ainfo1[:target_ibdex2]\n",
    "    elif '/*' in Ainfo1:\n",
    "        target_ibdex3 = Ainfo1.index('/*')\n",
    "        Ainfo2 =Ainfo1[:target_ibdex3]\n",
    "else:\n",
    "    pass\n",
    "    "
   ]
  },
  {
   "cell_type": "code",
   "execution_count": null,
   "metadata": {},
   "outputs": [],
   "source": [
    "ALL_FRIENDS = []\n",
    "indices = [ALL_FRIENDS.append(Ainfo2[index+1]) for index, element in enumerate(Ainfo2) if element == \"Friend request sent\"]"
   ]
  },
  {
   "cell_type": "code",
   "execution_count": null,
   "metadata": {},
   "outputs": [],
   "source": [
    "ALL_FRIENDS_Data = []\n",
    "if len(ALL_FRIENDS)>=1:\n",
    "#     user_name = []\n",
    "    for a in ALL_FRIENDS:\n",
    "        ALL_FRIENDS_Data.append(a)\n",
    "        f = driver.page_source.rindex(a)\n",
    "        f_index = f\n",
    "    #     print(f_index)\n",
    "        Ainfo6 =driver.page_source[:f_index]\n",
    "        g = Ainfo6.rindex(a)\n",
    "        g_index = g\n",
    "    #     print(g_index)\n",
    "        Ainfo7 =Ainfo6[g_index:]\n",
    "    #     print(Ainfo7)\n",
    "        friend2_url = re.findall(r'(https?://\\S+)', Ainfo7)\n",
    "    #     print(friend2_url)\n",
    "        friend2_url = friend2_url[0].replace(\"amp;\", \"\")\n",
    "        friend2_url = friend2_url[:-1]\n",
    "        ALL_FRIENDS_Data.append(friend2_url)\n",
    "    #     spl_word = 'https://www.facebook.com/'\n",
    "        spl_word = 'https://www.facebook.com/profile.php?id='\n",
    "        spl_word1 = 'https://www.facebook.com/'\n",
    "        spl_word2 = 'https://www.facebook.com/profile.php?id='\n",
    "        # test_string = driver1.current_url\n",
    "        if spl_word in friend2_url:\n",
    "            res1 = friend2_url.partition(spl_word2)[2] \n",
    "    #         print(res1)\n",
    "            if '&' in res1:\n",
    "            \n",
    "                target_ibdex2 = res1.index('&')\n",
    "                # print(target_ibdex2)\n",
    "                uName1 = res1[:target_ibdex2]\n",
    "                ALL_FRIENDS_Data.append(uName1)\n",
    "            else:\n",
    "                ALL_FRIENDS_Data.append(res1)\n",
    "        else:\n",
    "            res1 = friend2_url.partition(spl_word1)[2]\n",
    "    #         print(res1)\n",
    "            if '?' in res1:\n",
    "                target_ibdex3 = res1.index('?')\n",
    "        #         print(target_ibdex3)\n",
    "                uName2 = res1[:target_ibdex3]\n",
    "                ALL_FRIENDS_Data.append(uName2)\n",
    "    #         user_name.append(uName2)\n",
    "            else:\n",
    "                ALL_FRIENDS_Data.append(res1)\n",
    "else:\n",
    "    pass"
   ]
  },
  {
   "cell_type": "code",
   "execution_count": null,
   "metadata": {},
   "outputs": [],
   "source": [
    "ALL_FRIENDS_Data1 = [ALL_FRIENDS_Data[3*i:3*i+3] for i in range(0,math.ceil(len(ALL_FRIENDS_Data)/3))]\n",
    "Personal_Info['Friends_ALL_FRIENDS_Data'] = ALL_FRIENDS_Data1"
   ]
  },
  {
   "cell_type": "code",
   "execution_count": null,
   "metadata": {},
   "outputs": [],
   "source": [
    "try:\n",
    "    import cPickle as pickle\n",
    "except ImportError:  # python 3.x\n",
    "    import pickle\n",
    "\n",
    "with open('data.p', 'wb') as fp:\n",
    "    pickle.dump(data, fp, protocol=pickle.HIGHEST_PROTOCOL)"
   ]
  }
 ],
 "metadata": {
  "kernelspec": {
   "display_name": "Python 3",
   "language": "python",
   "name": "python3"
  },
  "language_info": {
   "codemirror_mode": {
    "name": "ipython",
    "version": 3
   },
   "file_extension": ".py",
   "mimetype": "text/x-python",
   "name": "python",
   "nbconvert_exporter": "python",
   "pygments_lexer": "ipython3",
   "version": "3.6.8"
  }
 },
 "nbformat": 4,
 "nbformat_minor": 4
}
