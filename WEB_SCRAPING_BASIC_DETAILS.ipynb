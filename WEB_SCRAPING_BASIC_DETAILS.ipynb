{
 "cells": [
  {
   "cell_type": "markdown",
   "metadata": {},
   "source": [
    "# WEB_SCRAPING_BASIC_DETAILS "
   ]
  },
  {
   "cell_type": "code",
   "execution_count": 1,
   "metadata": {},
   "outputs": [],
   "source": [
    "# Basic Details\n",
    "#User_Name\n",
    "#User_Id\n",
    "#Profile_Photo\n",
    "#Cover_Photo\n",
    "#Address\n",
    "#Basic_Info"
   ]
  },
  {
   "cell_type": "code",
   "execution_count": 2,
   "metadata": {},
   "outputs": [],
   "source": [
    "# Import Packages"
   ]
  },
  {
   "cell_type": "code",
   "execution_count": 3,
   "metadata": {},
   "outputs": [],
   "source": [
    "# import web driver\n",
    "from selenium import webdriver\n",
    "import re\n",
    "import json\n",
    "import difflib\n"
   ]
  },
  {
   "cell_type": "code",
   "execution_count": 4,
   "metadata": {},
   "outputs": [],
   "source": [
    "# specifies the path to the chromedriver.exe\n",
    "driver = webdriver.Chrome('C://Users//USER//Desktop//chromedriver.exe')\n",
    "# driver = webdriver.Firefox()\n",
    "# \n",
    "# driver.get method() will navigate to a page given by the URL address\n",
    "driver.get('https://www.facebook.com/')"
   ]
  },
  {
   "cell_type": "code",
   "execution_count": 5,
   "metadata": {},
   "outputs": [],
   "source": [
    "from time import sleep\n",
    "driver.find_element_by_xpath('//*[@id=\"email\"]').send_keys('johnsonMLAI2304@gmail.com')\n",
    "driver.find_element_by_xpath('//*[@id=\"pass\"]').send_keys('johnsonMLAI2304@007')\n",
    "driver.find_element_by_xpath('//*[@id=\"u_0_b\"]').click()\n",
    "sleep(5)\n"
   ]
  },
  {
   "cell_type": "code",
   "execution_count": 6,
   "metadata": {},
   "outputs": [],
   "source": [
    "# you can change the User_Name_Test"
   ]
  },
  {
   "cell_type": "code",
   "execution_count": 7,
   "metadata": {},
   "outputs": [],
   "source": [
    "# driver.get('https://www.facebook.com/pulijala.sandeep.1')\n",
    "# driver.get('https://www.facebook.com/logoutsoon')\n",
    "# driver.get(\"https://www.facebook.com/profile.php?id=100000525500124\")\n",
    "# driver.get(\"https://www.facebook.com/saikrishna.chetty\")\n",
    "driver.get(\"https://www.facebook.com/acentsai\")"
   ]
  },
  {
   "cell_type": "code",
   "execution_count": 8,
   "metadata": {},
   "outputs": [
    {
     "name": "stdout",
     "output_type": "stream",
     "text": [
      "Profile_Name: Andugularavi Durga\n"
     ]
    }
   ],
   "source": [
    "Tilte = driver.title\n",
    "print(\"Profile_Name:\",Tilte)"
   ]
  },
  {
   "cell_type": "code",
   "execution_count": 9,
   "metadata": {},
   "outputs": [
    {
     "name": "stdout",
     "output_type": "stream",
     "text": [
      "USER_NAME: acentsai\n"
     ]
    }
   ],
   "source": [
    "test_string = driver.current_url\n",
    "spl_word = 'https://www.facebook.com/profile.php?id='\n",
    "spl_word1 = 'https://www.facebook.com/'\n",
    "spl_word2 = 'https://www.facebook.com/profile.php?id='\n",
    "if spl_word in test_string:\n",
    "    res1 = test_string.partition(spl_word2)[2] \n",
    "    print(\"USER_ID:\",res1)\n",
    "else:\n",
    "    res1 = test_string.partition(spl_word1)[2]\n",
    "    print(\"USER_NAME:\",res1)"
   ]
  },
  {
   "cell_type": "code",
   "execution_count": 10,
   "metadata": {},
   "outputs": [
    {
     "name": "stdout",
     "output_type": "stream",
     "text": [
      "Profile_Name: Andugularavi Durga\n",
      "Profile_Name: Andugularavi Durga\n",
      "Job_Title: Supervisor\n",
      "Address: Hyderabad\n",
      "Organization_name: [{'@type': 'Organization', 'name': 'I Am Not Lazy, I Just Take Rest Before I Do Some Work.'}, {'@type': 'Organization', 'name': 'The Park Hyderabad'}, {'@type': 'Organization', 'name': 'Aloft Bengaluru Cessna Business Park'}, {'@type': 'Organization', 'name': 'The Westin Hyderabad Mindspace'}]\n"
     ]
    }
   ],
   "source": [
    "test_list = re.findall(r'\">(.*?)<',driver.page_source)\n",
    "without_empty_strings = [string for string in test_list if string != \"\"]\n",
    "Profile_Name = without_empty_strings[0]\n",
    "print(\"Profile_Name:\",Profile_Name)\n",
    "Address = without_empty_strings[1]\n",
    "Address = json.loads(Address) \n",
    "# print(\"Address:\\n\",Address)\n",
    "print(\"Profile_Name:\",Address['name'])\n",
    "if 'jobTitle' in Address:\n",
    "    print(\"Job_Title:\",Address['jobTitle'])\n",
    "else: \n",
    "    pass\n",
    "if 'address' in Address:\n",
    "    print(\"Address:\",Address['address']['addressLocality'])\n",
    "else: \n",
    "    pass\n",
    "if 'affiliation' in Address:\n",
    "    print(\"Organization_name:\",Address['affiliation'])\n",
    "else: \n",
    "    pass"
   ]
  },
  {
   "cell_type": "markdown",
   "metadata": {},
   "source": [
    "X_PATH WAS DONE MANUALLY"
   ]
  },
  {
   "cell_type": "code",
   "execution_count": 11,
   "metadata": {},
   "outputs": [
    {
     "name": "stdout",
     "output_type": "stream",
     "text": [
      "USER_ID: 100049731165932\n"
     ]
    }
   ],
   "source": [
    "urls = re.findall(r'(https?://\\S+)', driver.page_source)\n",
    "\n",
    "User_ID_Urls = []\n",
    "for url in urls:\n",
    "    if \"https://www.facebook.com/profile.php?id=\" in url:\n",
    "        User_ID_Urls.append(url)\n",
    "User_ID_Url = User_ID_Urls[0]\n",
    "spl_word = \"https://www.facebook.com/profile.php?id=\"\n",
    "res1 = User_ID_Url.partition(spl_word)[2] \n",
    "# print(res1)\n",
    "print(\"USER_ID:\",res1[:-1])"
   ]
  },
  {
   "cell_type": "code",
   "execution_count": 12,
   "metadata": {},
   "outputs": [
    {
     "name": "stdout",
     "output_type": "stream",
     "text": [
      "Associate at The Westin Hyderabad Mindspace\n",
      "Supervisor at The Park Hyderabad\n",
      "Trainee at Aloft Bengaluru Cessna Business Park\n",
      "Studied at Sri Gayathri Junior College\n",
      "Went to Regency College of Hotel Management\n",
      "Went to devendra vidyalaya\n",
      "Lives in Hyderabad\n",
      "From Hyderabad\n",
      "Single\n",
      "Joined on May 2012\n"
     ]
    }
   ],
   "source": [
    "if \"Intro\" in without_empty_strings:\n",
    "    target_ibdex3 = without_empty_strings.index(\"Intro\")\n",
    "    info1 =without_empty_strings[target_ibdex3+1:]\n",
    "    if \"Photos\" in without_empty_strings:\n",
    "        target_ibdex4 = info1.index('Photos')\n",
    "        Info1 =info1[:target_ibdex4]\n",
    "    elif \"Friends\" in without_empty_strings:\n",
    "        target_ibdex4 = info1.index('Friends')\n",
    "        Info1 =info1[:target_ibdex4]\n",
    "    for id,line in enumerate(Info1):\n",
    "        text2 = 'Joined on '\n",
    "        output = str(int(difflib.SequenceMatcher(None, line, text2).ratio()*100))\n",
    "    #     print(id,line)\n",
    "        if 'at' in line:\n",
    "            line1 = Info1[id]+Info1[id+1]\n",
    "            print(line1)\n",
    "            Info1.pop(id+1)\n",
    "        elif 'From' in line:\n",
    "            line1 = Info1[id]+Info1[id+1]\n",
    "            print(line1)\n",
    "            Info1.pop(id+1)\n",
    "\n",
    "\n",
    "        elif 'Joined on ' in line:\n",
    "            print(line)\n",
    "    #             line1 = Info1[id]+Info1[id+1]\n",
    "    #             print(line1)\n",
    "    #             Info1.pop(id+1)\n",
    "        elif 'by' in line:\n",
    "                line1 = Info1[id]+Info1[id+1]\n",
    "                print(line1)\n",
    "                Info1.pop(id+1)\n",
    "        elif 'to' in line:\n",
    "                line1 = Info1[id]+Info1[id+1]\n",
    "                print(line1)\n",
    "                Info1.pop(id+1)\n",
    "    #     elif 'single' in line:\n",
    "    #         print(line)\n",
    "        elif 'Single'== line:\n",
    "            print(line)\n",
    "        elif 'Maried'==  line:\n",
    "            print(line)\n",
    "        elif 'Engaged'==  line:\n",
    "            print(line)   \n",
    "        elif 'in' in line:      \n",
    "            line1 = Info1[id]+Info1[id+1]\n",
    "            print(line1)\n",
    "            Info1.pop(id+1)\n",
    "        elif 'of' in line:\n",
    "                line1 = Info1[id]+Info1[id+1]\n",
    "                print(line1)\n",
    "                Info1.pop(id+1)\n",
    "        else:\n",
    "    #         Info1.pop(id)\n",
    "            print(line)\n",
    "else:\n",
    "    pass   "
   ]
  },
  {
   "cell_type": "code",
   "execution_count": 13,
   "metadata": {
    "scrolled": true
   },
   "outputs": [
    {
     "name": "stdout",
     "output_type": "stream",
     "text": [
      "Cover_Photo of the person:\n",
      " https://scontent.fhyd2-1.fna.fbcdn.net/v/t1.0-9/89298663_1843826179087936_4878553579436113920_o.jpg?_nc_cat=100&_nc_sid=dd9801&_nc_ohc=W5bVIoZ8qnsAX_gr1lK&_nc_ht=scontent.fhyd2-1.fna&oh=3bf38668417d3a53568773a9ff39863a&oe=5EC118DB\n"
     ]
    }
   ],
   "source": [
    "Cover_Photo_Urls = []\n",
    "urls = re.findall(r'(https?://\\S+)', driver.page_source)\n",
    "for url in urls:\n",
    "    if \"https://scontent.fhyd2-1.fna.fbcdn.net/v/\" in url:\n",
    "        if \"/p240x240/\" not in url:\n",
    "            if \"/p160x160/\" not in url: \n",
    "                if \"/p40x40\" not in url:\n",
    "        #         print(url)\n",
    "                    Cover_Photo1 = url.replace(\"amp;\", \"\")\n",
    "#                     print(Cover_Photo1)\n",
    "                    Cover_Photo_Url = Cover_Photo1.replace('\"','')\n",
    "#                     print(Cover_Photo_Url)\n",
    "                    Cover_Photo_Urls .append(Cover_Photo_Url)\n",
    "    else:\n",
    "        pass\n",
    "if len(Cover_Photo_Urls[0])>500:\n",
    "    print(\"No_Cover_Photo\")\n",
    "else:\n",
    "    print(\"Cover_Photo of the person:\\n\",Cover_Photo_Urls[0])\n",
    "print(\"Cover_Photo of the person:\\n\",Cover_Photo_Urls[0])"
   ]
  },
  {
   "cell_type": "markdown",
   "metadata": {},
   "source": [
    "for cover photo we need to make a condition that , if it doesn't follow the condition, we need to pass"
   ]
  },
  {
   "cell_type": "code",
   "execution_count": 14,
   "metadata": {
    "scrolled": false
   },
   "outputs": [
    {
     "name": "stdout",
     "output_type": "stream",
     "text": [
      "Profile image of the person:\n",
      " https://scontent.fhyd2-1.fna.fbcdn.net/v/t1.0-1/p240x240/91395926_1865719193565301_206106688736985088_n.jpg?_nc_cat=102&_nc_sid=dbb9e7&_nc_ohc=WNmcd2_2mn0AX_Jfp-8&_nc_ht=scontent.fhyd2-1.fna&_nc_tp=6&oh=cd2536d3db77613972f434bd2edc60b1&oe=5EC1E944\n"
     ]
    }
   ],
   "source": [
    "Profile_Photo_Urls = []\n",
    "for url in urls:\n",
    "    if \"https://scontent.fhyd2-1.fna.fbcdn.net/v\" in url:\n",
    "        if \"/p240x240/\" in url:\n",
    "#             print(url)\n",
    "            Profile_Photo1 = url.replace(\"amp;\", \"\")\n",
    "#             print(Profile_Photo1)\n",
    "            if '\"' in Profile_Photo1:\n",
    "                target_ibdex8 = Profile_Photo1.index('\"')\n",
    "                Ainfo8 =Profile_Photo1[:target_ibdex8]\n",
    "#                 print(Ainfo8)\n",
    "                Ainfo8 =Profile_Photo1[:target_ibdex8]\n",
    "#             print(\"Profile image of the person:\\n\",Ainfo8)\n",
    "                Profile_Photo_Urls .append(Ainfo8)\n",
    "# print(\"Profile image of the person:\\n\",Profile_Photo_Urls[0])\n",
    "                \n",
    "        else:\n",
    "            pass\n",
    "print(\"Profile image of the person:\\n\",Profile_Photo_Urls[0])"
   ]
  },
  {
   "cell_type": "markdown",
   "metadata": {},
   "source": [
    "for profile photo we no need to make a condition "
   ]
  }
 ],
 "metadata": {
  "kernelspec": {
   "display_name": "Python 3",
   "language": "python",
   "name": "python3"
  },
  "language_info": {
   "codemirror_mode": {
    "name": "ipython",
    "version": 3
   },
   "file_extension": ".py",
   "mimetype": "text/x-python",
   "name": "python",
   "nbconvert_exporter": "python",
   "pygments_lexer": "ipython3",
   "version": "3.6.8"
  }
 },
 "nbformat": 4,
 "nbformat_minor": 4
}
