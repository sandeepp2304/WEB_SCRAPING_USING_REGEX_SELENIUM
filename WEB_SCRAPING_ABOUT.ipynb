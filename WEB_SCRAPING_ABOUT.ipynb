{
 "cells": [
  {
   "cell_type": "markdown",
   "metadata": {},
   "source": [
    "# WEB_SCRAPING_ABOUT_DETAILS "
   ]
  },
  {
   "cell_type": "code",
   "execution_count": 1,
   "metadata": {},
   "outputs": [],
   "source": [
    "# About Details\n",
    "# 'Overview',\n",
    "#  'Work and education',\n",
    "#  \"Places He's Lived\",\n",
    "#  'Contact and basic info',\n",
    "#  'Family and relationships',\n",
    "#  'Details About Amit',\n",
    "#  'Life events',"
   ]
  },
  {
   "cell_type": "code",
   "execution_count": 2,
   "metadata": {},
   "outputs": [],
   "source": [
    "# Import Packages"
   ]
  },
  {
   "cell_type": "code",
   "execution_count": 3,
   "metadata": {},
   "outputs": [],
   "source": [
    "# import web driver\n",
    "from selenium import webdriver\n",
    "import re\n",
    "import json\n",
    "import difflib\n",
    "from time import sleep"
   ]
  },
  {
   "cell_type": "code",
   "execution_count": 4,
   "metadata": {},
   "outputs": [],
   "source": [
    "# specifies the path to the chromedriver.exe\n",
    "driver = webdriver.Chrome('C://Users//USER//Desktop//chromedriver.exe')\n",
    "# driver = webdriver.Firefox()\n",
    "# \n",
    "# driver.get method() will navigate to a page given by the URL address\n",
    "driver.get('https://www.facebook.com/')"
   ]
  },
  {
   "cell_type": "code",
   "execution_count": 5,
   "metadata": {},
   "outputs": [],
   "source": [
    "from time import sleep\n",
    "driver.find_element_by_xpath('//*[@id=\"email\"]').send_keys('johnsonMLAI2304@gmail.com')\n",
    "driver.find_element_by_xpath('//*[@id=\"pass\"]').send_keys('johnsonMLAI2304@007')\n",
    "driver.find_element_by_xpath('//*[@id=\"u_0_b\"]').click()\n",
    "sleep(5)\n"
   ]
  },
  {
   "cell_type": "code",
   "execution_count": 6,
   "metadata": {},
   "outputs": [],
   "source": [
    "#user_name"
   ]
  },
  {
   "cell_type": "code",
   "execution_count": 7,
   "metadata": {},
   "outputs": [],
   "source": [
    "# driver1.get('https://www.facebook.com/pulijala.sandeep.1')\n",
    "driver.get('https://www.facebook.com/analiza.cirilo')"
   ]
  },
  {
   "cell_type": "code",
   "execution_count": 8,
   "metadata": {},
   "outputs": [],
   "source": [
    "#about\n",
    "#Over_view"
   ]
  },
  {
   "cell_type": "markdown",
   "metadata": {},
   "source": [
    "X_PATH WAS DONE MANUALLY"
   ]
  },
  {
   "cell_type": "markdown",
   "metadata": {},
   "source": [
    "# 1"
   ]
  },
  {
   "cell_type": "code",
   "execution_count": 9,
   "metadata": {},
   "outputs": [],
   "source": [
    "driver.find_element_by_xpath('//*[@id=\"u_0_10\"]/li[2]/a').click()\n",
    "sleep(5)"
   ]
  },
  {
   "cell_type": "code",
   "execution_count": 10,
   "metadata": {},
   "outputs": [],
   "source": [
    "Personal_Info = dict()\n",
    "def About_data(driver):\n",
    "    list = ['Friends','Photos','Videos','Check_ins','Sports','Music','Films','Keyboard shortcut help']\n",
    "    index1 = []\n",
    "    test_list = re.findall(r'>(.*?)<',driver.page_source)\n",
    "    without_empty_strings = [string for string in test_list if string != \"\"]\n",
    "    target_ibdex = without_empty_strings.index('About Section Navigation')\n",
    "    info =without_empty_strings[target_ibdex:]\n",
    "    info_index = info.index('Life events')\n",
    "    info =info[info_index+1:]\n",
    "    index1 = []\n",
    "    for i in list:\n",
    "    #     print(i)\n",
    "        for j in info:\n",
    "    #         if i in info:\n",
    "            if i == j:\n",
    "                index = info.index(i)\n",
    "    #             print(index)\n",
    "                index1.append(index)\n",
    "            else:\n",
    "                pass\n",
    "#     print(index1)\n",
    "#     print(min(index1))\n",
    "    Info =info[:min(index1)]\n",
    "    return Info"
   ]
  },
  {
   "cell_type": "code",
   "execution_count": 11,
   "metadata": {},
   "outputs": [],
   "source": [
    "Info = About_data(driver)"
   ]
  },
  {
   "cell_type": "code",
   "execution_count": 12,
   "metadata": {},
   "outputs": [],
   "source": [
    "Over_View = []\n",
    "for id,line in enumerate(Info):\n",
    "    if 'Works' in line:\n",
    "        line1 = Info[id]+Info[id+1]\n",
    "        Over_View.append(line1)\n",
    "        Info.pop(id+1)\n",
    "    elif 'Studies' in line:\n",
    "        line1 = Info[id]+Info[id+1]\n",
    "        Over_View.append(line1)\n",
    "        Info.pop(id+1)\n",
    "    elif 'Studied' in line:\n",
    "        line1 = Info[id]+Info[id+1]\n",
    "        Over_View.append(line1)\n",
    "        Info.pop(id+1)\n",
    "    elif 'Lives in ' in line:\n",
    "        line1 = Info[id]+Info[id+1]\n",
    "        Over_View.append(line1)\n",
    "        Info.pop(id+1)\n",
    "    elif 'Lived in ' in line:\n",
    "        line1 = Info[id]+Info[id+1]\n",
    "        Over_View.append(line1)\n",
    "        Info.pop(id+1)\n",
    "\n",
    "    elif 'From ' in line:\n",
    "        line1 = Info[id]+Info[id+1]\n",
    "        Over_View.append(line1)\n",
    "        Info.pop(id+1)\n",
    "    else:\n",
    "        Over_View.append(line)"
   ]
  },
  {
   "cell_type": "code",
   "execution_count": 13,
   "metadata": {},
   "outputs": [],
   "source": [
    "Personal_Info['Profile_Overview']= Over_View"
   ]
  },
  {
   "cell_type": "markdown",
   "metadata": {},
   "source": [
    "# 2"
   ]
  },
  {
   "cell_type": "code",
   "execution_count": 15,
   "metadata": {},
   "outputs": [],
   "source": [
    "#about\n",
    "#Work and education"
   ]
  },
  {
   "cell_type": "code",
   "execution_count": 16,
   "metadata": {},
   "outputs": [],
   "source": [
    "driver.find_element_by_xpath('//*[@id=\"pagelet_timeline_app_collection_100001581486626:2327158227:8\"]/ul/li[2]/div/div[1]/div/div/div/a[2]/span[1]').click()\n",
    "sleep(5)"
   ]
  },
  {
   "cell_type": "code",
   "execution_count": 17,
   "metadata": {},
   "outputs": [],
   "source": [
    "Info2 = About_data(driver)"
   ]
  },
  {
   "cell_type": "code",
   "execution_count": 19,
   "metadata": {},
   "outputs": [],
   "source": [
    "if 'Education' in Info2:\n",
    "    target_ibdex4 = Info2.index('Work')\n",
    "    target_ibdex5= Info2.index('Education')\n",
    "    Info5 =Info2[1:target_ibdex5]\n",
    "    Personal_Info['Work']= Info5\n",
    "    Info6 = Info2[target_ibdex5+1:]\n",
    "    Personal_Info['Education']= Info6\n",
    "elif 'Education' not in Info2:\n",
    "    Info5 =  Info2[1:]\n",
    "    Personal_Info['Work']= Info5\n",
    "    Personal_Info['Education']= None\n",
    "else:\n",
    "    Personal_Info['Work']= None"
   ]
  },
  {
   "cell_type": "markdown",
   "metadata": {},
   "source": [
    "# 3"
   ]
  },
  {
   "cell_type": "code",
   "execution_count": 23,
   "metadata": {},
   "outputs": [],
   "source": [
    "#about\n",
    "#Places he/she lived"
   ]
  },
  {
   "cell_type": "code",
   "execution_count": 25,
   "metadata": {},
   "outputs": [],
   "source": [
    "driver.find_element_by_xpath('//*[@id=\"pagelet_timeline_app_collection_100001581486626:2327158227:8\"]/ul/li[2]/div/div[1]/div/div/div/a[3]/span[1]').click()\n",
    "sleep(5)"
   ]
  },
  {
   "cell_type": "code",
   "execution_count": 26,
   "metadata": {},
   "outputs": [],
   "source": [
    "Info2 =  About_data(driver)"
   ]
  },
  {
   "cell_type": "code",
   "execution_count": 27,
   "metadata": {},
   "outputs": [],
   "source": [
    "if \"Current city\" in Info2:\n",
    "    target_ibdex4 = Info2.index('Current city')\n",
    "    Info5 = Info2[1:target_ibdex4]\n",
    "    Personal_Info['Current city']= Info5\n",
    "else:\n",
    "    Personal_Info['Current city']= None"
   ]
  },
  {
   "cell_type": "code",
   "execution_count": 28,
   "metadata": {},
   "outputs": [],
   "source": [
    "if \"Home Town\" in Info2:\n",
    "    target_ibdex4 = Info2.index('Home Town')\n",
    "    if 'Current city' in Info2:\n",
    "        target_ibdex4 = Info2.index('Home Town')\n",
    "        target_ibdex5 = Info2.index('Current city')\n",
    "        #     print(target_ibdex4)\n",
    "        Info5 = Info2[target_ibdex5+1:target_ibdex4]\n",
    "    #     Info5 = ' '.join(map(str, Info5)) \n",
    "        Personal_Info['Home Town']= Info5\n",
    "    else:\n",
    "        target_ibdex4 = Info2.index('Home Town')\n",
    "        target_ibdex5 = Info2.index('Current City and Home Town')\n",
    "        Info5 = Info2[target_ibdex5+1:target_ibdex4]\n",
    "        Personal_Info['Home Town']= Info5\n",
    "else:\n",
    "    Personal_Info['Home Town']= None\n"
   ]
  },
  {
   "cell_type": "code",
   "execution_count": 29,
   "metadata": {},
   "outputs": [],
   "source": [
    "if \"Other Places Lived\" in Info2:\n",
    "    target_ibdex4 = Info2.index('Other Places Lived')\n",
    "    Info5 = Info2[target_ibdex4:]\n",
    "    Personal_Info['Other Places Lived']= Info5\n",
    "else:\n",
    "    Personal_Info['Other Places Lived']= None\n"
   ]
  },
  {
   "cell_type": "markdown",
   "metadata": {},
   "source": [
    "# 4"
   ]
  },
  {
   "cell_type": "code",
   "execution_count": 32,
   "metadata": {},
   "outputs": [],
   "source": [
    "#about\n",
    "#Contact and basic info"
   ]
  },
  {
   "cell_type": "code",
   "execution_count": 34,
   "metadata": {},
   "outputs": [],
   "source": [
    "driver.find_element_by_xpath('//*[@id=\"pagelet_timeline_app_collection_100001581486626:2327158227:8\"]/ul/li[2]/div/div[1]/div/div/div/a[4]/span[1]').click()\n",
    "sleep(5)"
   ]
  },
  {
   "cell_type": "code",
   "execution_count": 35,
   "metadata": {},
   "outputs": [],
   "source": [
    "Info2 =  About_data(driver)"
   ]
  },
  {
   "cell_type": "code",
   "execution_count": 36,
   "metadata": {},
   "outputs": [],
   "source": [
    "if \"Contact Information\" in Info2:\n",
    "    target_ibdex4 = Info2.index('Contact Information')\n",
    "    target_ibdex5 = Info2.index('Basic Information')\n",
    "    Info5 = Info2[1:target_ibdex5] \n",
    "    Personal_Info['Contact Information'] = Info5\n",
    "else:\n",
    "    Personal_Info['Contact Information']= None"
   ]
  },
  {
   "cell_type": "code",
   "execution_count": 37,
   "metadata": {},
   "outputs": [],
   "source": [
    "if \"Basic Information\" in Info2:\n",
    "    target_ibdex4 = Info2.index('Basic Information')\n",
    "#     print(target_ibdex4)\n",
    "    Info5 = Info2[target_ibdex4+1:]\n",
    "#     Info5 = ' '.join(map(str, Info5)) \n",
    "    Personal_Info['Basic Information'] = Info5\n",
    "else:\n",
    "    Personal_Info['Basic Information'] = None\n"
   ]
  },
  {
   "cell_type": "markdown",
   "metadata": {},
   "source": [
    "# 5"
   ]
  },
  {
   "cell_type": "code",
   "execution_count": 39,
   "metadata": {},
   "outputs": [],
   "source": [
    "# about\n",
    "# Family and Relationships"
   ]
  },
  {
   "cell_type": "code",
   "execution_count": 40,
   "metadata": {},
   "outputs": [],
   "source": [
    "driver.find_element_by_xpath('//*[@id=\"pagelet_timeline_app_collection_100001581486626:2327158227:8\"]/ul/li[2]/div/div[1]/div/div/div/a[5]/span[1]').click()\n",
    "sleep(5)"
   ]
  },
  {
   "cell_type": "code",
   "execution_count": 41,
   "metadata": {},
   "outputs": [],
   "source": [
    "Info2 =  About_data(driver)"
   ]
  },
  {
   "cell_type": "code",
   "execution_count": 42,
   "metadata": {},
   "outputs": [],
   "source": [
    "#Relation_Ship"
   ]
  },
  {
   "cell_type": "code",
   "execution_count": 43,
   "metadata": {},
   "outputs": [],
   "source": [
    "if \"Relationship\" in Info2:\n",
    "    target_ibdex4 = Info2.index('Relationship')\n",
    "    target_ibdex5 = Info2.index('Family Members')\n",
    "    Info5 = Info2[1:target_ibdex5]\n",
    "    f1_index = driver.page_source.index('>Relationship<')\n",
    "    f1_text = driver.page_source[f1_index:]\n",
    "    f2_index = f1_text.index('>Family Members<')\n",
    "    f2_text = f1_text[1:f2_index]\n",
    "else:\n",
    "    pass"
   ]
  },
  {
   "cell_type": "code",
   "execution_count": 44,
   "metadata": {},
   "outputs": [],
   "source": [
    "import math\n",
    "Relation_ships = []\n",
    "Relation_ship = []\n",
    "if 'No relationship info to show' in f2_text:\n",
    "    Relationship = \"NO_RELATIONSHIP_INFORMATION\"\n",
    "    Personal_Info['Relationship_Data']= Relationship\n",
    "else:\n",
    "    for i,name in enumerate(Info5):\n",
    "        f = f2_text.count(name)\n",
    "        if f==2:\n",
    "            Relation_ships.append(name)\n",
    "        elif f==1:\n",
    "            Relation_ship.append(name)\n",
    "        else:\n",
    "            pass"
   ]
  },
  {
   "cell_type": "code",
   "execution_count": 45,
   "metadata": {},
   "outputs": [],
   "source": [
    "Relation_Ships_data = []\n",
    "if len(Relation_ships)>=1:\n",
    "    for a in Relation_ships:\n",
    "        Relation_Ships_data.append(a)\n",
    "        f = f2_text.rindex(a)\n",
    "        f_index = f\n",
    "        Ainfo6 =f2_text[:f_index]\n",
    "        g = Ainfo6.rindex(a)\n",
    "        g_index = g\n",
    "        Ainfo7 =Ainfo6[g_index:]\n",
    "        friend2_url = re.findall(r'(https?://\\S+)', Ainfo7)\n",
    "        friend2_url = friend2_url[0].replace(\"amp;\", \"\")\n",
    "        friend2_url = friend2_url[:-1]\n",
    "        Relation_Ships_data.append(friend2_url)\n",
    "        spl_word = 'https://www.facebook.com/profile.php?id='\n",
    "        spl_word1 = 'https://www.facebook.com/'\n",
    "        spl_word2 = 'https://www.facebook.com/profile.php?id='\n",
    "        if spl_word in friend2_url:\n",
    "            res1 = friend2_url.partition(spl_word2)[2] \n",
    "            if '&' in res1:\n",
    "                target_ibdex2 = res1.index('&')\n",
    "                uName1 = res1[:target_ibdex2]\n",
    "                Relation_Ships_data.append(uName1)\n",
    "            else:\n",
    "                Relation_Ships_data.append(res1)\n",
    "        else:\n",
    "            res1 = friend2_url.partition(spl_word1)[2]\n",
    "            if '?' in res1:\n",
    "                target_ibdex3 = res1.index('?')\n",
    "                uName2 = res1[:target_ibdex3]\n",
    "                Relation_Ships_data.append(uName2)\n",
    "            else:\n",
    "                Relation_Ships_data.append(res1)\n",
    "else:\n",
    "    pass\n",
    "Relation_Ships_data1 = [Relation_Ships_data[3*i:3*i+3] for i in range(0,math.ceil(len(Relation_Ships_data)/3))]"
   ]
  },
  {
   "cell_type": "code",
   "execution_count": 46,
   "metadata": {},
   "outputs": [],
   "source": [
    "if len(Relation_ship)>=1:\n",
    "    Personal_Info['Relationship_Data'] = Relation_ship\n",
    "else:\n",
    "    Personal_Info['Relationship_Data'] = None"
   ]
  },
  {
   "cell_type": "code",
   "execution_count": 64,
   "metadata": {},
   "outputs": [],
   "source": [
    "if len(Relation_ships)>=1:\n",
    "    Personal_Info['Relationship_Data_w'] = Relation_Ships_data1\n",
    "else:\n",
    "    Personal_Info['Relationship_Data_w'] = None"
   ]
  },
  {
   "cell_type": "code",
   "execution_count": 48,
   "metadata": {},
   "outputs": [],
   "source": [
    "# Family Members"
   ]
  },
  {
   "cell_type": "code",
   "execution_count": 57,
   "metadata": {},
   "outputs": [],
   "source": [
    "if \"Family Members\" in Info2:\n",
    "    target_ibdex4 = Info2.index('Family Members')\n",
    "    Info5 = Info2[target_ibdex4+1:]\n",
    "    Info5 = [e for e in Info5 if e not in ('Cousin','Friend','Father','Mother','Brother','Sister','Son', 'Niece')]\n",
    "    f1_index = driver.page_source.index('>Family Members<')\n",
    "    f1_text = driver.page_source[f1_index:]\n",
    "    if '>Friends<' in f1_text:\n",
    "        f2_index = f1_text.index('>Friends<')\n",
    "        f2_text = f1_text[:f2_index]\n",
    "    #     print(f2_index)\n",
    "    elif '>Photos<' in f1_text:\n",
    "        f2_index = f1_text.index('>Photos<')\n",
    "        f2_text = f1_text[:f2_index]\n",
    "    #     print(f2_index)\n",
    "    elif '>Videos<' in f1_text:\n",
    "        f2_index = f1_text.index('>Videos<')\n",
    "        f2_text = f1_text[:f2_index]\n",
    "    else:\n",
    "        f2_index = f1_text.index('>Check_Ins<')\n",
    "        f2_text = f1_text[:f2_index]\n",
    "else:    \n",
    "    pass"
   ]
  },
  {
   "cell_type": "code",
   "execution_count": 58,
   "metadata": {},
   "outputs": [],
   "source": [
    "Family_Members = []\n",
    "Family_Member = []\n",
    "if 'No family members to show' in f2_text:\n",
    "    Family_Member1 = \"NO_FAMILY_MEMBERS_INFORMATION\"\n",
    "    Personal_Info['Family_memeber_Data']= Family_Member1 \n",
    "else:\n",
    "    for i,name in enumerate(Info5):\n",
    "        f = f2_text.count(name)\n",
    "        if f==2:\n",
    "            Family_Members.append(name)\n",
    "        elif f==1:\n",
    "            Family_Member.append(name)\n",
    "        else:\n",
    "            pass                                                                                                 "
   ]
  },
  {
   "cell_type": "code",
   "execution_count": 59,
   "metadata": {},
   "outputs": [],
   "source": [
    "Family_Members_Data = []\n",
    "if len(Family_Members)>=1:\n",
    "#     user_name = []\n",
    "    for a in Family_Members:\n",
    "        Family_Members_Data.append(a)\n",
    "        f = f2_text.rindex(a)\n",
    "        f_index = f\n",
    "    #     print(f_index)\n",
    "        Ainfo6 =f2_text[:f_index]\n",
    "        g = Ainfo6.rindex(a)\n",
    "        g_index = g\n",
    "    #     print(g_index)\n",
    "        Ainfo7 =Ainfo6[g_index:]\n",
    "    #     print(Ainfo7)\n",
    "        friend2_url = re.findall(r'(https?://\\S+)', Ainfo7)\n",
    "    #     print(friend2_url)\n",
    "        friend2_url = friend2_url[0].replace(\"amp;\", \"\")\n",
    "        friend2_url = friend2_url[:-1]\n",
    "        Family_Members_Data.append(friend2_url)\n",
    "    #     spl_word = 'https://www.facebook.com/'\n",
    "        spl_word = 'https://www.facebook.com/profile.php?id='\n",
    "        spl_word1 = 'https://www.facebook.com/'\n",
    "        spl_word2 = 'https://www.facebook.com/profile.php?id='\n",
    "        # test_string = driver1.current_url\n",
    "        if spl_word in friend2_url:\n",
    "            res1 = friend2_url.partition(spl_word2)[2] \n",
    "    #         print(res1)\n",
    "            if '&' in res1:\n",
    "            \n",
    "                target_ibdex2 = res1.index('&')\n",
    "                # print(target_ibdex2)\n",
    "                uName1 = res1[:target_ibdex2]\n",
    "                Family_Members_Data.append(uName1)\n",
    "            else:\n",
    "                Family_Members_Data.append(res1)\n",
    "        else:\n",
    "            res1 = friend2_url.partition(spl_word1)[2]\n",
    "    #         print(res1)\n",
    "            if '?' in res1:\n",
    "                target_ibdex3 = res1.index('?')\n",
    "        #         print(target_ibdex3)\n",
    "                uName2 = res1[:target_ibdex3]\n",
    "                Family_Members_Data.append(uName2)\n",
    "    #         user_name.append(uName2)\n",
    "            else:\n",
    "               Family_Members_Data.append(res1)\n",
    "\n",
    "\n",
    "\n",
    "#         print(\"\\n End_Of_User_Details \\n \" ) \n",
    "else:\n",
    "    pass\n",
    "Family_Members_Data1 = [Family_Members_Data[3*i:3*i+3] for i in range(0,math.ceil(len(Family_Members_Data)/3))]"
   ]
  },
  {
   "cell_type": "code",
   "execution_count": 60,
   "metadata": {},
   "outputs": [],
   "source": [
    "if len(Family_Member)>0:\n",
    "    Personal_Info['Family_memeber_Data']= Family_Member\n",
    "else:\n",
    "    Personal_Info['Family_memeber_Data']= None\n"
   ]
  },
  {
   "cell_type": "code",
   "execution_count": 62,
   "metadata": {},
   "outputs": [],
   "source": [
    "if len(Family_Members)>0:\n",
    "    Personal_Info['Family_memeber_Data_W'] = Family_Members_Data1\n",
    "else:\n",
    "    Personal_Info['Family_memeber_Data_W'] = None"
   ]
  },
  {
   "cell_type": "markdown",
   "metadata": {},
   "source": [
    "# 6"
   ]
  },
  {
   "cell_type": "code",
   "execution_count": 65,
   "metadata": {},
   "outputs": [],
   "source": [
    "#about\n",
    "#Details about Person"
   ]
  },
  {
   "cell_type": "code",
   "execution_count": 66,
   "metadata": {},
   "outputs": [],
   "source": [
    "driver.find_element_by_xpath('//*[@id=\"pagelet_timeline_app_collection_100001581486626:2327158227:8\"]/ul/li[2]/div/div[1]/div/div/div/a[6]/span[1]').click()\n",
    "sleep(5)"
   ]
  },
  {
   "cell_type": "code",
   "execution_count": 67,
   "metadata": {},
   "outputs": [],
   "source": [
    "Info2 =  About_data(driver)"
   ]
  },
  {
   "cell_type": "code",
   "execution_count": 68,
   "metadata": {},
   "outputs": [],
   "source": [
    "About_Name = Info2[0]\n",
    "if  About_Name in Info2:\n",
    "#     target_ibdex4 = Info2.index(About_Name)\n",
    "    target_ibdex4 = 0\n",
    "    if 'Other Names' in Info2:\n",
    "        target_ibdex5 = Info2.index('Other Names')\n",
    "        Info5 = Info2[1:target_ibdex5]\n",
    "        Personal_Info[About_Name] = Info5\n",
    "    elif 'Favourite Quotes' in Info2:\n",
    "        target_ibdex5 = Info2.index('Favourite Quotes')\n",
    "        Info5 = Info2[1:target_ibdex5]\n",
    "        Personal_Info[About_Name] = Info5\n",
    "else:\n",
    "    pass"
   ]
  },
  {
   "cell_type": "code",
   "execution_count": 69,
   "metadata": {},
   "outputs": [],
   "source": [
    "if  About_Name in Info2:\n",
    "    target_ibdex4 = Info2.index(About_Name)\n",
    "    if 'Other Names' in Info2:\n",
    "        target_ibdex5 = Info2.index('Other Names')\n",
    "        target_ibdex4 = Info2.index('Favourite Quotes')\n",
    "        Info5 = Info2[target_ibdex5+1:target_ibdex4]\n",
    "        Personal_Info['Other Names'] = Info5\n",
    "else:\n",
    "    pass"
   ]
  },
  {
   "cell_type": "code",
   "execution_count": 70,
   "metadata": {},
   "outputs": [],
   "source": [
    "if 'Favourite Quotes' in Info2:\n",
    "    target_ibdex5 = Info2.index('Favourite Quotes')\n",
    "    Info5 = Info2[target_ibdex5+1:]\n",
    "    Personal_Info['Favourite Quotes'] = Info5\n",
    "else:\n",
    "    pass"
   ]
  },
  {
   "cell_type": "markdown",
   "metadata": {},
   "source": [
    "# 7"
   ]
  },
  {
   "cell_type": "code",
   "execution_count": 72,
   "metadata": {},
   "outputs": [],
   "source": [
    "#about\n",
    "#Life_Events"
   ]
  },
  {
   "cell_type": "code",
   "execution_count": 73,
   "metadata": {},
   "outputs": [],
   "source": [
    "driver.find_element_by_xpath('//*[@id=\"pagelet_timeline_app_collection_100001581486626:2327158227:8\"]/ul/li[2]/div/div[1]/div/div/div/a[7]/span[1]').click()\n",
    "sleep(5)"
   ]
  },
  {
   "cell_type": "code",
   "execution_count": 74,
   "metadata": {},
   "outputs": [],
   "source": [
    "Info2 =  About_data(driver)"
   ]
  },
  {
   "cell_type": "code",
   "execution_count": 75,
   "metadata": {},
   "outputs": [],
   "source": [
    "years = []\n",
    "if  'Life events' in Info2:\n",
    "    target_ibdex4 = Info2.index('Life events')\n",
    "    Info5 = Info2[target_ibdex4+1:]\n",
    "    for i in Info5:\n",
    "        i1 = i.isdigit()\n",
    "        if i1 == True:\n",
    "            year_Index = Info5.index(i)+1\n",
    "            years.append(year_Index)\n",
    "else:\n",
    "    pass"
   ]
  },
  {
   "cell_type": "code",
   "execution_count": 80,
   "metadata": {},
   "outputs": [],
   "source": [
    "output = []\n",
    "prev = 0\n",
    "for index in years:\n",
    "    output.append(Info2[prev:index])\n",
    "    prev = index\n",
    "if len(output)>1:\n",
    "    output.append(Info2[years[-1]:])\n",
    "    Personal_Info[\"Life events\"]=output[1:]\n",
    "else:\n",
    "    Personal_Info[\"Life events\"]= None"
   ]
  },
  {
   "cell_type": "code",
   "execution_count": 81,
   "metadata": {},
   "outputs": [
    {
     "data": {
      "text/plain": [
       "{'Profile_Overview': ['Kuwait',\n",
       "  'Studied at Abba Institute of Technology',\n",
       "  'Lives in Iloilo City, Philippines',\n",
       "  'From Sara, Iloilo',\n",
       "  '2 family members'],\n",
       " 'Work': ['Kuwait'],\n",
       " 'Education': ['Abba Institute of Technology',\n",
       "  'Iloilo City, Philippines',\n",
       "  \"Victorino Salcedo Nat'l High School\"],\n",
       " 'Current city': ['Iloilo City, Philippines'],\n",
       " 'Home Town': ['Sara, Iloilo'],\n",
       " 'Other Places Lived': None,\n",
       " 'Contact Information': ['No contact info to show'],\n",
       " 'Basic Information': ['Gender', 'Female'],\n",
       " 'Relationship_Data': ['Single'],\n",
       " 'Family_memeber_Data': ['Jemal Baldoza Cirilo'],\n",
       " 'Family_memeber_Data_W': [['Welma Baldoza',\n",
       "   'https://www.facebook.com/welma.baldoza?eid=ARBT3Fv3w84A-ZxiYlzmhDWJbbgSmY0wDpkdNYyRnH5V8Q22ngseBfnyPqrM6iMupHKWaHA-mC4rVhRb',\n",
       "   'welma.baldoza']],\n",
       " 'Relationship_Data_w': None,\n",
       " 'About Azilana': ['No additional details to show'],\n",
       " 'Favourite Quotes': ['No favourite quotes to show'],\n",
       " 'Life events': None}"
      ]
     },
     "execution_count": 81,
     "metadata": {},
     "output_type": "execute_result"
    }
   ],
   "source": [
    "Personal_Info"
   ]
  },
  {
   "cell_type": "markdown",
   "metadata": {},
   "source": [
    "# ThankYou"
   ]
  }
 ],
 "metadata": {
  "kernelspec": {
   "display_name": "Python 3",
   "language": "python",
   "name": "python3"
  },
  "language_info": {
   "codemirror_mode": {
    "name": "ipython",
    "version": 3
   },
   "file_extension": ".py",
   "mimetype": "text/x-python",
   "name": "python",
   "nbconvert_exporter": "python",
   "pygments_lexer": "ipython3",
   "version": "3.6.8"
  }
 },
 "nbformat": 4,
 "nbformat_minor": 4
}
