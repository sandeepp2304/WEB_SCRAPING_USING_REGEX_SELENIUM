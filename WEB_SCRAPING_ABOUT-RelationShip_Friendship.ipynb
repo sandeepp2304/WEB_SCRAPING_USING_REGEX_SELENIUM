{
 "cells": [
  {
   "cell_type": "markdown",
   "metadata": {},
   "source": [
    "# WEB_SCRAPING_ABOUT_DETAILS "
   ]
  },
  {
   "cell_type": "code",
   "execution_count": 1,
   "metadata": {},
   "outputs": [],
   "source": [
    "# About Details\n",
    "# 'Overview',\n",
    "#  'Work and education',\n",
    "#  \"Places He's Lived\",\n",
    "#  'Contact and basic info',\n",
    "#  'Family and relationships',\n",
    "#  'Details About Amit',\n",
    "#  'Life events',"
   ]
  },
  {
   "cell_type": "code",
   "execution_count": 2,
   "metadata": {},
   "outputs": [],
   "source": [
    "# Import Packages"
   ]
  },
  {
   "cell_type": "code",
   "execution_count": 3,
   "metadata": {},
   "outputs": [],
   "source": [
    "# import web driver\n",
    "from selenium import webdriver\n",
    "import re\n",
    "import json\n",
    "import difflib\n",
    "from time import sleep\n",
    "import math"
   ]
  },
  {
   "cell_type": "code",
   "execution_count": 4,
   "metadata": {},
   "outputs": [],
   "source": [
    "# specifies the path to the chromedriver.exe\n",
    "driver = webdriver.Chrome('C://Users//USER//Desktop//chromedriver.exe')\n",
    "# driver = webdriver.Firefox()\n",
    "# \n",
    "# driver.get method() will navigate to a page given by the URL address\n",
    "driver.get('https://www.facebook.com/')"
   ]
  },
  {
   "cell_type": "code",
   "execution_count": 5,
   "metadata": {},
   "outputs": [],
   "source": [
    "from time import sleep\n",
    "driver.find_element_by_xpath('//*[@id=\"email\"]').send_keys('johnsonMLAI2304@gmail.com')\n",
    "driver.find_element_by_xpath('//*[@id=\"pass\"]').send_keys('johnsonMLAI2304@007')\n",
    "driver.find_element_by_xpath('//*[@id=\"u_0_b\"]').click()\n",
    "sleep(5)\n"
   ]
  },
  {
   "cell_type": "code",
   "execution_count": 6,
   "metadata": {},
   "outputs": [],
   "source": [
    "#user_name"
   ]
  },
  {
   "cell_type": "code",
   "execution_count": 7,
   "metadata": {},
   "outputs": [],
   "source": [
    "# driver.get('https://www.facebook.com/pulijala.sandeep.1')\n",
    "# driver.get('https://www.facebook.com/logoutsoon')\n",
    "# driver.get(\"https://www.facebook.com/profile.php?id=100000525500124\")\n",
    "# driver.get(\"https://www.facebook.com/saikrishna.chetty\")\n",
    "# driver.get(\"https://www.facebook.com/acentsai\")\n",
    "# driver.get(\"https://www.facebook.com/profile.php?id=100050451848014\")\n",
    "# driver1.get('https://www.facebook.com/pulijala.sandeep.1')\n",
    "# driver.get('https://www.facebook.com/analiza.cirilo')\n",
    "driver.get('https://www.facebook.com/zuck')"
   ]
  },
  {
   "cell_type": "code",
   "execution_count": 8,
   "metadata": {},
   "outputs": [],
   "source": [
    "#about\n",
    "#Over_view"
   ]
  },
  {
   "cell_type": "markdown",
   "metadata": {},
   "source": [
    "X_PATH WAS DONE MANUALLY"
   ]
  },
  {
   "cell_type": "markdown",
   "metadata": {},
   "source": [
    "# 1"
   ]
  },
  {
   "cell_type": "code",
   "execution_count": 9,
   "metadata": {},
   "outputs": [],
   "source": [
    "Personal_Info = dict()\n",
    "def About_data(driver):\n",
    "    list = ['Friends','Photos','Videos','Check_ins','Sports','Music','Films','Keyboard shortcut help']\n",
    "    index1 = []\n",
    "    test_list = re.findall(r'>(.*?)<',driver.page_source)\n",
    "    without_empty_strings = [string for string in test_list if string != \"\"]\n",
    "    target_ibdex = without_empty_strings.index('About Section Navigation')\n",
    "    info =without_empty_strings[target_ibdex:]\n",
    "    info_index = info.index('Life events')\n",
    "    info =info[info_index+1:]\n",
    "    index1 = []\n",
    "    for i in list:\n",
    "    #     print(i)\n",
    "        for j in info:\n",
    "    #         if i in info:\n",
    "            if i == j:\n",
    "                index = info.index(i)\n",
    "    #             print(index)\n",
    "                index1.append(index)\n",
    "            else:\n",
    "                pass\n",
    "#     print(index1)\n",
    "#     print(min(index1))\n",
    "    Info =info[:min(index1)]\n",
    "    return Info"
   ]
  },
  {
   "cell_type": "code",
   "execution_count": 10,
   "metadata": {},
   "outputs": [],
   "source": [
    "# about"
   ]
  },
  {
   "cell_type": "code",
   "execution_count": 11,
   "metadata": {},
   "outputs": [],
   "source": [
    "driver.find_element_by_xpath('//*[@id=\"u_0_11\"]/li[2]/a').click()\n",
    "sleep(5)"
   ]
  },
  {
   "cell_type": "code",
   "execution_count": 12,
   "metadata": {},
   "outputs": [],
   "source": [
    "#Relation_Ship&Family_Members"
   ]
  },
  {
   "cell_type": "code",
   "execution_count": 13,
   "metadata": {},
   "outputs": [],
   "source": [
    "driver.find_element_by_xpath('//*[@id=\"pagelet_timeline_app_collection_4:2327158227:8\"]/ul/li[2]/div/div[1]/div/div/div/a[5]/span[1]').click()\n",
    "sleep(5)"
   ]
  },
  {
   "cell_type": "code",
   "execution_count": 14,
   "metadata": {},
   "outputs": [],
   "source": [
    "Info2 =  About_data(driver)"
   ]
  },
  {
   "cell_type": "code",
   "execution_count": 15,
   "metadata": {},
   "outputs": [],
   "source": [
    "#Relation_Ship"
   ]
  },
  {
   "cell_type": "code",
   "execution_count": 16,
   "metadata": {},
   "outputs": [],
   "source": [
    "if \"Relationship\" in Info2:\n",
    "    target_ibdex4 = Info2.index('Relationship')\n",
    "    target_ibdex5 = Info2.index('Family Members')\n",
    "    Info5 = Info2[1:target_ibdex5]\n",
    "    f1_index = driver.page_source.index('>Relationship<')\n",
    "    f1_text = driver.page_source[f1_index:]\n",
    "    f2_index = f1_text.index('>Family Members<')\n",
    "    f2_text = f1_text[1:f2_index]\n",
    "else:\n",
    "    pass"
   ]
  },
  {
   "cell_type": "code",
   "execution_count": 17,
   "metadata": {},
   "outputs": [],
   "source": [
    "Relation_ships = []\n",
    "Relation_ship = []\n",
    "if 'No relationship info to show' in f2_text:\n",
    "    Relationship = \"NO_RELATIONSHIP_INFORMATION\"\n",
    "    Personal_Info['Relationship_Data']= Relationship\n",
    "else:\n",
    "    for i,name in enumerate(Info5):\n",
    "        f = f2_text.count(name)\n",
    "        if f==2:\n",
    "            Relation_ships.append(name)\n",
    "        elif f==1:\n",
    "            Relation_ship.append(name)\n",
    "        else:\n",
    "            pass"
   ]
  },
  {
   "cell_type": "code",
   "execution_count": 18,
   "metadata": {},
   "outputs": [],
   "source": [
    "Relation_Ships_data = []\n",
    "if len(Relation_ships)>=1:\n",
    "    for a in Relation_ships:\n",
    "        Relation_Ships_data.append(a)\n",
    "        f = f2_text.rindex(a)\n",
    "        f_index = f\n",
    "        Ainfo6 =f2_text[:f_index]\n",
    "        g = Ainfo6.rindex(a)\n",
    "        g_index = g\n",
    "        Ainfo7 =Ainfo6[g_index:]\n",
    "        friend2_url = re.findall(r'(https?://\\S+)', Ainfo7)\n",
    "        friend2_url = friend2_url[0].replace(\"amp;\", \"\")\n",
    "        friend2_url = friend2_url[:-1]\n",
    "        Relation_Ships_data.append(friend2_url)\n",
    "        spl_word = 'https://www.facebook.com/profile.php?id='\n",
    "        spl_word1 = 'https://www.facebook.com/'\n",
    "        spl_word2 = 'https://www.facebook.com/profile.php?id='\n",
    "        if spl_word in friend2_url:\n",
    "            res1 = friend2_url.partition(spl_word2)[2] \n",
    "            if '&' in res1:\n",
    "                target_ibdex2 = res1.index('&')\n",
    "                uName1 = res1[:target_ibdex2]\n",
    "                Relation_Ships_data.append(uName1)\n",
    "            else:\n",
    "                Relation_Ships_data.append(res1)\n",
    "        else:\n",
    "            res1 = friend2_url.partition(spl_word1)[2]\n",
    "            if '?' in res1:\n",
    "                target_ibdex3 = res1.index('?')\n",
    "                uName2 = res1[:target_ibdex3]\n",
    "                Relation_Ships_data.append(uName2)\n",
    "            else:\n",
    "                Relation_Ships_data.append(res1)\n",
    "else:\n",
    "    pass\n",
    "Relation_Ships_data1 = [Relation_Ships_data[3*i:3*i+3] for i in range(0,math.ceil(len(Relation_Ships_data)/3))]"
   ]
  },
  {
   "cell_type": "code",
   "execution_count": 19,
   "metadata": {},
   "outputs": [],
   "source": [
    "if len(Relation_ship)>=1:\n",
    "    Personal_Info['Relationship_Data'] = Relation_ship\n",
    "else:\n",
    "    Personal_Info['Relationship_Data'] = None"
   ]
  },
  {
   "cell_type": "code",
   "execution_count": 20,
   "metadata": {},
   "outputs": [],
   "source": [
    "if len(Relation_ships)>=1:\n",
    "    Personal_Info['Relationship_Data_w'] = Relation_Ships_data1\n",
    "else:\n",
    "    Personal_Info['Relationship_Data_w'] = None"
   ]
  },
  {
   "cell_type": "code",
   "execution_count": 1,
   "metadata": {},
   "outputs": [],
   "source": [
    "# ? CHANGE"
   ]
  },
  {
   "cell_type": "code",
   "execution_count": 22,
   "metadata": {},
   "outputs": [],
   "source": [
    "Info6 = []\n",
    "Family_Member_Relation = []\n",
    "Family_Member_Relation_stopwords =['Cousin','Friend','Father','Mother','Brother','Sister','Son', 'Niece','Daughter','Auntie','Uncle','Nephew','Cousin(female)','Cousin(male)','Grandfather','Grandmother','Granddaughter','Grandson','Srepsister','Stepbrother','Stepfather','Stepmother','Stepson','Stepdaughter','Sister-in-law','Brother-in-law','Mother-in-law','Father-in-law','Son-in-law','Daughter-in-law'] \n",
    "if \"Family Members\" in Info2:\n",
    "    target_ibdex4 = Info2.index('Family Members')\n",
    "    Info5 = Info2[target_ibdex4+1:]\n",
    "    Family_Member_Relati = [Family_Member_Relation.append(e) for e in Info5 if e in Family_Member_Relation_stopwords]\n",
    "    Personal_Info['Family_Member_Relation']= Family_Member_Relation\n",
    "    Family_Member_Rela = [Info6.append(e) for e in Info5 if e not in Family_Member_Relation]\n",
    "    f1_index = driver.page_source.index('>Family Members<')\n",
    "    f1_text = driver.page_source[f1_index:]\n",
    "    if '>Friends<' in f1_text:\n",
    "        f2_index = f1_text.index('>Friends<')\n",
    "        f2_text = f1_text[:f2_index]\n",
    "    #     print(f2_index)\n",
    "    elif '>Photos<' in f1_text:\n",
    "        f2_index = f1_text.index('>Photos<')\n",
    "        f2_text = f1_text[:f2_index]\n",
    "    #     print(f2_index)\n",
    "    elif '>Videos<' in f1_text:\n",
    "        f2_index = f1_text.index('>Videos<')\n",
    "        f2_text = f1_text[:f2_index]\n",
    "    else:\n",
    "        f2_index = f1_text.index('>Check_Ins<')\n",
    "        f2_text = f1_text[:f2_index]\n",
    "else:    \n",
    "    pass"
   ]
  },
  {
   "cell_type": "code",
   "execution_count": 23,
   "metadata": {},
   "outputs": [],
   "source": [
    "Family_Members = []\n",
    "Family_Member = []\n",
    "if 'No family members to show' in f2_text:\n",
    "    Family_Member1 = \"NO_FAMILY_MEMBERS_INFORMATION\"\n",
    "    Personal_Info['Family_memeber_Data']= Family_Member1 \n",
    "else:\n",
    "    for i,name in enumerate(Info6):\n",
    "        f = f2_text.count(name)\n",
    "        if f==2:\n",
    "            Family_Members.append(name)\n",
    "        elif f==1:\n",
    "            Family_Member.append(name)\n",
    "        else:\n",
    "            pass                                                                                                 "
   ]
  },
  {
   "cell_type": "code",
   "execution_count": 25,
   "metadata": {},
   "outputs": [],
   "source": [
    "Family_Members_Data = []\n",
    "if len(Family_Members)>=1:\n",
    "#     user_name = []\n",
    "    for a in Family_Members:\n",
    "        Family_Members_Data.append(a)\n",
    "        f = f2_text.rindex(a)\n",
    "        f_index = f\n",
    "    #     print(f_index)\n",
    "        Ainfo6 =f2_text[:f_index]\n",
    "        g = Ainfo6.rindex(a)\n",
    "        g_index = g\n",
    "    #     print(g_index)\n",
    "        Ainfo7 =Ainfo6[g_index:]\n",
    "    #     print(Ainfo7)\n",
    "        friend2_url = re.findall(r'(https?://\\S+)', Ainfo7)\n",
    "    #     print(friend2_url)\n",
    "        friend2_url = friend2_url[0].replace(\"amp;\", \"\")\n",
    "        friend2_url = friend2_url[:-1]\n",
    "        Family_Members_Data.append(friend2_url)\n",
    "    #     spl_word = 'https://www.facebook.com/'\n",
    "        spl_word = 'https://www.facebook.com/profile.php?id='\n",
    "        spl_word1 = 'https://www.facebook.com/'\n",
    "        spl_word2 = 'https://www.facebook.com/profile.php?id='\n",
    "        # test_string = driver1.current_url\n",
    "        if spl_word in friend2_url:\n",
    "            res1 = friend2_url.partition(spl_word2)[2] \n",
    "    #         print(res1)\n",
    "            if '&' in res1:\n",
    "            \n",
    "                target_ibdex2 = res1.index('&')\n",
    "                # print(target_ibdex2)\n",
    "                uName1 = res1[:target_ibdex2]\n",
    "                Family_Members_Data.append(uName1)\n",
    "            else:\n",
    "                Family_Members_Data.append(res1)\n",
    "        else:\n",
    "            res1 = friend2_url.partition(spl_word1)[2]\n",
    "    #         print(res1)\n",
    "            if '?' in res1:\n",
    "                target_ibdex3 = res1.index('?')\n",
    "        #         print(target_ibdex3)\n",
    "                uName2 = res1[:target_ibdex3]\n",
    "                Family_Members_Data.append(uName2)\n",
    "    #         user_name.append(uName2)\n",
    "            else:\n",
    "               Family_Members_Data.append(res1)\n",
    "\n",
    "\n",
    "\n",
    "#         print(\"\\n End_Of_User_Details \\n \" ) \n",
    "else:\n",
    "    pass\n",
    "Family_Members_Data1 = [Family_Members_Data[3*i:3*i+3] for i in range(0,math.ceil(len(Family_Members_Data)/3))]"
   ]
  },
  {
   "cell_type": "code",
   "execution_count": 27,
   "metadata": {},
   "outputs": [],
   "source": [
    "if len(Family_Member)>0:\n",
    "    Personal_Info['Family_memeber_Data']= Family_Member\n",
    "else:\n",
    "    Personal_Info['Family_memeber_Data']= None\n"
   ]
  },
  {
   "cell_type": "code",
   "execution_count": 28,
   "metadata": {},
   "outputs": [],
   "source": [
    "if len(Family_Members)>0:\n",
    "    Personal_Info['Family_memeber_Data_W'] = Family_Members_Data1\n",
    "else:\n",
    "    Personal_Info['Family_memeber_Data_W'] = None"
   ]
  },
  {
   "cell_type": "code",
   "execution_count": 29,
   "metadata": {},
   "outputs": [
    {
     "data": {
      "text/plain": [
       "{'Relationship_Data': ['Married since 19 May 2012'],\n",
       " 'Relationship_Data_w': [['Priscilla Chan',\n",
       "   'https://www.facebook.com/priscilla?eid=ARDhLJXVPiw8au79utcPedT9itxBTJb7lyn-9WEORmMTjZmtVKnML6nGg_OfXokpoLFoQwknXinna3GA',\n",
       "   'priscilla']],\n",
       " 'Family_Member_Relation': ['Daughter', 'Daughter'],\n",
       " 'Family_memeber_Data': ['August', 'Max'],\n",
       " 'Family_memeber_Data_W': None}"
      ]
     },
     "execution_count": 29,
     "metadata": {},
     "output_type": "execute_result"
    }
   ],
   "source": [
    "Personal_Info"
   ]
  },
  {
   "cell_type": "code",
   "execution_count": 2,
   "metadata": {},
   "outputs": [],
   "source": [
    "#  cHANGE"
   ]
  },
  {
   "cell_type": "markdown",
   "metadata": {},
   "source": [
    "# Cover_Photo"
   ]
  },
  {
   "cell_type": "code",
   "execution_count": null,
   "metadata": {},
   "outputs": [],
   "source": [
    "Cover_Photo_Urls = []\n",
    "urls = re.findall(r'(https?://\\S+)', driver.page_source)\n",
    "for url in urls:\n",
    "    if \"https://scontent.fhyd2-1.fna.fbcdn.net/v/\" in url:\n",
    "        if \"https://scontent.fhyd2-1.fna.fbcdn.net/v/\" in url:\n",
    "            if \"/p240x240/\" not in url:\n",
    "                if \"/p160x160/\" not in url: \n",
    "                    if \"/p40x40\" not in url:\n",
    "                        if \"/p50x50\" not in url:\n",
    "                            if \"/p552x414\" not in url:\n",
    "                                if \"/p720x720\" not in url:\n",
    "                                    if \"/p180x240\" not in url:\n",
    "                            #         print(url)\n",
    "                                        Cover_Photo1 = url.replace(\"amp;\", \"\")\n",
    "                    #                     print(Cover_Photo1)\n",
    "                                        Cover_Photo_Url = Cover_Photo1.replace('\"','')\n",
    "                    #                     print(Cover_Photo_Url)\n",
    "                                        Cover_Photo_Urls .append(Cover_Photo_Url)\n",
    "                                    else:\n",
    "                                        pass\n",
    "if len(Cover_Photo_Urls[0])>300:\n",
    "    Cover_Photo1 = \"No_Cover_Photo\"\n",
    "    Personal_Info['Cover_Photo']= Cover_Photo1\n",
    "else:\n",
    "    Cover_Photo1 = Cover_Photo_Urls[0]\n",
    "    Personal_Info['Cover_Photo']= Cover_Photo1"
   ]
  },
  {
   "cell_type": "markdown",
   "metadata": {},
   "source": [
    "# ThankYou"
   ]
  }
 ],
 "metadata": {
  "kernelspec": {
   "display_name": "Python 3",
   "language": "python",
   "name": "python3"
  },
  "language_info": {
   "codemirror_mode": {
    "name": "ipython",
    "version": 3
   },
   "file_extension": ".py",
   "mimetype": "text/x-python",
   "name": "python",
   "nbconvert_exporter": "python",
   "pygments_lexer": "ipython3",
   "version": "3.6.8"
  }
 },
 "nbformat": 4,
 "nbformat_minor": 4
}
